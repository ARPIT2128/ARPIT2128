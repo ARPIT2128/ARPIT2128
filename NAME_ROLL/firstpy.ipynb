{
  "cells": [
    {
      "cell_type": "markdown",
      "metadata": {
        "id": "view-in-github",
        "colab_type": "text"
      },
      "source": [
        "<a href=\"https://colab.research.google.com/github/ARPIT2128/ARPIT2128/blob/main/NAME_ROLL/firstpy.ipynb\" target=\"_parent\"><img src=\"https://colab.research.google.com/assets/colab-badge.svg\" alt=\"Open In Colab\"/></a>"
      ]
    },
    {
      "cell_type": "markdown",
      "metadata": {
        "id": "TyT8NJ7SriBK"
      },
      "source": [
        "**this is a program for generating a random lottary using the 1 to 100 numbers**\n"
      ]
    },
    {
      "cell_type": "code",
      "execution_count": null,
      "metadata": {
        "id": "tOsxS1dswqzB"
      },
      "outputs": [],
      "source": [
        "#this is python mode o first official \n",
        "import random as ran\n",
        "x=45\n",
        "for i in range(0,100):\n",
        "  y=ran.randint(1,100)\n",
        "  if(x==y):\n",
        "    print(\"equal\",x,y)\n",
        "    break\n",
        "  else:\n",
        "    print(\"not equal\",x,y)"
      ]
    },
    {
      "cell_type": "markdown",
      "metadata": {
        "id": "KDS8x8qyyUDl"
      },
      "source": [
        "**program for creating a pyramid pattern**"
      ]
    },
    {
      "cell_type": "code",
      "execution_count": null,
      "metadata": {
        "colab": {
          "base_uri": "https://localhost:8080/"
        },
        "id": "UPTtd35g12_X",
        "outputId": "dece82e1-9dee-4f6a-b0c7-d2afbf9eea2f"
      },
      "outputs": [
        {
          "name": "stdout",
          "output_type": "stream",
          "text": [
            "     * \r\n",
            "    * * \r\n",
            "   * * * \r\n",
            "  * * * * \r\n",
            " * * * * * \r\n"
          ]
        }
      ],
      "source": [
        "k=5\n",
        "for i in range(1,6):\n",
        "    for j in range(0,k):\n",
        "        print(end=\" \")\n",
        "    k-=1\n",
        "    for j in range(0,i):\n",
        "        print(\"* \",end=\"\")\n",
        "    print(\"\\r\")\n",
        "    "
      ]
    },
    {
      "cell_type": "markdown",
      "metadata": {
        "id": "uffx06IZyvSj"
      },
      "source": [
        "**function for updating a value in a list at a given index**"
      ]
    },
    {
      "cell_type": "code",
      "execution_count": null,
      "metadata": {
        "id": "4XFLA3KpsSag"
      },
      "outputs": [],
      "source": [
        "def updator(l1):\n",
        "    n=int(input(\"enter index form 0 to \"+str(len(l1))+\" :\"))\n",
        "    try:\n",
        "        if(l1[n] in l1):\n",
        "            u=int(input(\"enter value:\"))\n",
        "            l1[n]=l1[n]+u\n",
        "            return(l1[n])\n",
        "    except:\n",
        "        return(\"not found\")"
      ]
    },
    {
      "cell_type": "code",
      "execution_count": null,
      "metadata": {
        "id": "K_kbCUD65tKh"
      },
      "outputs": [],
      "source": [
        "l2=[1,2,3,4,5,6,8,987,4,5,4,3,2]\n",
        "x=updator(l2)\n",
        "print(x)"
      ]
    },
    {
      "cell_type": "markdown",
      "metadata": {
        "id": "Kt6tzTrNzITM"
      },
      "source": [
        "**ladder pattern in python using lists**"
      ]
    },
    {
      "cell_type": "code",
      "execution_count": null,
      "metadata": {
        "colab": {
          "base_uri": "https://localhost:8080/"
        },
        "id": "DYVnpDBC6Ngt",
        "outputId": "86c0ce66-e77d-4cb9-efe9-81ac74c5cf08"
      },
      "outputs": [
        {
          "name": "stdout",
          "output_type": "stream",
          "text": [
            "1\t    1\n",
            "2 2 2 2 2 2 2 \r\n",
            "1\t    1\n",
            "2 2 2 2 2 2 2 \r\n",
            "1\t    1\n",
            "2 2 2 2 2 2 2 \r\n",
            "1\t    1\n",
            "2 2 2 2 2 2 2 \r\n",
            "1\t    1\n",
            "2 2 2 2 2 2 2 \r\n"
          ]
        }
      ],
      "source": [
        "s1=[1,1,1,1,1]\n",
        "s2=[2,2,2,2,2,2,2]\n",
        "for i in s1:\n",
        "    print(str(i)+\"\\t    \"+str(i))\n",
        "    for j in s2:\n",
        "        print(j,end=\" \")\n",
        "    print(\"\\r\")\n"
      ]
    },
    {
      "cell_type": "markdown",
      "metadata": {
        "id": "PYEhjfoTyDV3"
      },
      "source": [
        "**program for factorial of a number in a function**"
      ]
    },
    {
      "cell_type": "code",
      "execution_count": null,
      "metadata": {
        "id": "RxCcL6CGD09U"
      },
      "outputs": [],
      "source": [
        "def factorial(n):\n",
        "    if(n<0):\n",
        "        return factorial(int(input(\"enter a valid number:\")))\n",
        "    elif(n==0 or n==1):\n",
        "        return 1\n",
        "    else:\n",
        "        fact=1\n",
        "        for i in range(2,n+1):\n",
        "            fact*=i\n",
        "        return fact"
      ]
    },
    {
      "cell_type": "markdown",
      "metadata": {
        "id": "oYrzdCXqJc6C"
      },
      "source": [
        "**Definine a class called Phone and creating a methond make_phone_call() which make call if 10 digit number is printed else except other handle and in the end it is invoked using a object.**"
      ]
    },
    {
      "cell_type": "code",
      "execution_count": null,
      "metadata": {
        "colab": {
          "base_uri": "https://localhost:8080/"
        },
        "id": "XiFsyhzTxJDQ",
        "outputId": "577b719b-4180-4db8-fbd3-dca651144785"
      },
      "outputs": [
        {
          "name": "stdout",
          "output_type": "stream",
          "text": [
            "enter phone number:s\n",
            "enter valid number\n",
            "enter phone number:2s232\n",
            "enter valid number\n",
            "enter phone number:1234567891\n",
            "Calling to 1234567891\n"
          ]
        }
      ],
      "source": [
        "class Phone():\n",
        "    def make_phone_call(self):\n",
        "        try: \n",
        "            x=int(input(\"enter phone number:\"))\n",
        "            temp=str(x)\n",
        "            list(temp)\n",
        "            if(len(temp)==10):\n",
        "                return print(\"Calling to \"+str(x))\n",
        "            else:\n",
        "                s1=Phone()\n",
        "                return s1.make_phone_call()\n",
        "\n",
        "        except:\n",
        "            print(\"enter valid number\")\n",
        "            s1=Phone()\n",
        "            return s1.make_phone_call()\n",
        "p1=Phone()\n",
        "p1.make_phone_call()"
      ]
    },
    {
      "cell_type": "code",
      "execution_count": null,
      "metadata": {
        "colab": {
          "base_uri": "https://localhost:8080/"
        },
        "id": "Py4KuR4XEAnX",
        "outputId": "786c3e95-f546-4b9c-886d-51c8ca27c28b"
      },
      "outputs": [
        {
          "data": {
            "text/plain": [
              "['2', '2', '2', '3', '2', '3', '2', '3', '2', '3']"
            ]
          },
          "execution_count": 6,
          "metadata": {},
          "output_type": "execute_result"
        }
      ],
      "source": [
        "s=\"2223232323\"\n",
        "list(s)"
      ]
    },
    {
      "cell_type": "code",
      "execution_count": null,
      "metadata": {
        "colab": {
          "base_uri": "https://localhost:8080/"
        },
        "id": "IcoUK04xIQCw",
        "outputId": "a036c1de-520a-4c69-a4d3-8ef6e6f4401d"
      },
      "outputs": [
        {
          "name": "stdout",
          "output_type": "stream",
          "text": [
            "Name: Sam\n",
            "enroll number: 1229\n",
            "Position in the company: senior programmer\n",
            "salary: 300000\n"
          ]
        }
      ],
      "source": [
        "class Employee:\n",
        "    def __init__(self,name,en_roll,position,salary):\n",
        "        self.name=name\n",
        "        self.en_roll=en_roll\n",
        "        self.position=position\n",
        "        self.salary=salary\n",
        "    def employee_details(self):\n",
        "        print(\"Name:\",self.name)\n",
        "        print(\"enroll number:\",self.en_roll)\n",
        "        print(\"Position in the company:\",self.position)\n",
        "        print(\"salary:\",self.salary)\n",
        "e1=Employee(\"Sam\",1229,\"senior programmer\",300000)\n",
        "e1.employee_details()"
      ]
    },
    {
      "cell_type": "code",
      "execution_count": null,
      "metadata": {
        "colab": {
          "base_uri": "https://localhost:8080/"
        },
        "id": "BOUhKtqNlaIY",
        "outputId": "728c5938-4d23-4442-9226-4240ccdfa0ed"
      },
      "outputs": [
        {
          "name": "stdout",
          "output_type": "stream",
          "text": [
            "<class 'numpy.ndarray'>\n",
            "(2, 6)\n",
            "[[2 2]\n",
            " [22 5]\n",
            " [5 5]\n",
            " [4 4]\n",
            " [2 3]\n",
            " [3 3]]\n"
          ]
        },
        {
          "data": {
            "text/plain": [
              "array([68, 14, 80, 89, 13, 23, 25, 28, 68, 63])"
            ]
          },
          "execution_count": 53,
          "metadata": {},
          "output_type": "execute_result"
        }
      ],
      "source": [
        "import numpy as np\n",
        "n1=np.array([13,3,3,3,44,5,5,6])\n",
        "print(type(n1))\n",
        "n2=np.array([[2,2,22,5,5,5],[4,4,2,3,3,3]],dtype=object)\n",
        "print(n2.shape)\n",
        "n2.shape=(6,2)\n",
        "print(n2)\n",
        "n3=np.random.randint(10,100,10)\n",
        "n3"
      ]
    },
    {
      "cell_type": "code",
      "execution_count": null,
      "metadata": {
        "colab": {
          "base_uri": "https://localhost:8080/"
        },
        "id": "hgDW4rw_Mo35",
        "outputId": "35c5a147-0b0d-4b9b-f804-937267fc9df3"
      },
      "outputs": [
        {
          "name": "stdout",
          "output_type": "stream",
          "text": [
            "[  3   3   6   6   6   6   9 126   6  12  12]\n"
          ]
        },
        {
          "data": {
            "text/plain": [
              "array([  3,   3,   6,   6,   6,   6,   9, 126,   6,  12,  12])"
            ]
          },
          "execution_count": 16,
          "metadata": {},
          "output_type": "execute_result"
        }
      ],
      "source": [
        "import numpy as np\n",
        "p1=np.array([2,2,3,3,3,3,4,43,3,5,5])\n",
        "p2=np.array([2,3,3,3,4,5,6,6,6,7,7])\n",
        "p1-=1\n",
        "p1*=3\n",
        "print(p1)\n",
        "np.save(\"numpy\",p1)\n",
        "np.load(\"numpy.npy\")"
      ]
    },
    {
      "cell_type": "code",
      "execution_count": null,
      "metadata": {
        "id": "JWQ72fT3xWgE"
      },
      "outputs": [],
      "source": [
        "from numpy.ma.extras import setxor1d\n",
        "import pandas as pd\n",
        "'''\n",
        "p1=[3,3,3,3,4,5,7,677,7,3,3,4,4]\n",
        "x=[]\n",
        "for i in range(0,len(p1)):\n",
        "    x.append(chr(97+i))\n",
        "print(x)\n",
        "pd.Series(p1,index=x)\n",
        "'''\n",
        "#d={\"apple\":20,\"bluebarry\":10,\"Calamansi\":15}\n",
        "#D={\"app\":20,\"blackbarry\":10,\"Cimcon\":15}\n",
        "#k1=pd.Series([3,3,4,5])\n",
        "#k2=pd.Series([2,3,2])\n",
        "#k1-k2\n",
        "s1=pd.DataFrame({\"student\":[\"chintu\",\"bantai\",\"jignesh\",\"chini\",\"thandai\",\"jipzz\"],\"marks\":[13,3,3,43,31,312]})\n",
        "s1=pd.Series([1,2,3,4,5],index=['a','b','c','d','e'])"
      ]
    },
    {
      "cell_type": "code",
      "execution_count": null,
      "metadata": {
        "colab": {
          "base_uri": "https://localhost:8080/"
        },
        "id": "CrEVd-XEZh2s",
        "outputId": "8cff2ef4-e8d4-460b-ab84-71a4e9bd3c08"
      },
      "outputs": [
        {
          "data": {
            "text/plain": [
              "(2, 4)"
            ]
          },
          "execution_count": 69,
          "metadata": {},
          "output_type": "execute_result"
        }
      ],
      "source": [
        "import numpy as np\n",
        "a1=np.array([[1,2,3,4],[6,7,8,9]])\n"
      ]
    },
    {
      "cell_type": "code",
      "execution_count": null,
      "metadata": {
        "colab": {
          "base_uri": "https://localhost:8080/"
        },
        "id": "OzPavs4hEJIL",
        "outputId": "8e88cad7-dc6c-40e9-ba4b-eb4bf51eff09"
      },
      "outputs": [
        {
          "name": "stdout",
          "output_type": "stream",
          "text": [
            "enter year\n",
            "2016\n",
            "True\n"
          ]
        }
      ],
      "source": [
        "def is_leap(year):\n",
        "    leap=False\n",
        "    if year %400==0:\n",
        "        leap=   True\n",
        "    elif year % 100==0:\n",
        "        leap=False \n",
        "    elif year % 4==0:\n",
        "        leap=True\n",
        "    return leap\n",
        "print(\"enter year\")\n",
        "year=int(input())\n",
        "print(is_leap(year))"
      ]
    },
    {
      "cell_type": "code",
      "execution_count": null,
      "metadata": {
        "colab": {
          "base_uri": "https://localhost:8080/"
        },
        "id": "z9m-bpGxwh5_",
        "outputId": "565c5cac-33fa-4318-cf51-517e231d1a5b"
      },
      "outputs": [
        {
          "name": "stdout",
          "output_type": "stream",
          "text": [
            "function reversal string's simple a is this\n"
          ]
        }
      ],
      "source": [
        "def string_reversal(s):\n",
        "    a=s.split(\" \")\n",
        "    y=len(a)\n",
        "    b=a[::-1]\n",
        "    c=\" \"\n",
        "    d=c.join(b)\n",
        "    return print(d)\n",
        "z=\"this is a simple string's reversal function\"\n",
        "string_reversal(z)"
      ]
    },
    {
      "cell_type": "code",
      "execution_count": null,
      "metadata": {
        "colab": {
          "base_uri": "https://localhost:8080/"
        },
        "id": "hnfuZU8hG8yy",
        "outputId": "87a89984-23c8-496b-a3e6-946ebfe37efd"
      },
      "outputs": [
        {
          "data": {
            "text/plain": [
              "76"
            ]
          },
          "execution_count": 15,
          "metadata": {},
          "output_type": "execute_result"
        }
      ],
      "source": [
        "def f(*x):\n",
        "    y=0\n",
        "    tuple(x)\n",
        "    for i in range(0,len(x)):\n",
        "        y+=x[i]*x[i]\n",
        "    return y\n",
        "f(2,3,3,3,3,6)"
      ]
    },
    {
      "cell_type": "code",
      "execution_count": null,
      "metadata": {
        "colab": {
          "base_uri": "https://localhost:8080/",
          "height": 265
        },
        "id": "b2u8tEMWxY-k",
        "outputId": "cc5698cc-3e06-4756-ec9a-4220283a8943"
      },
      "outputs": [
        {
          "data": {
            "image/png": "[encoded data removed]",
            "text/plain": [
              "<Figure size 432x288 with 1 Axes>"
            ]
          },
          "metadata": {},
          "output_type": "display_data"
        }
      ],
      "source": [
        "import matplotlib.pyplot as plt\n",
        "%matplotlib inline\n",
        "# Create a class Circle\n",
        "\n",
        "class Circle(object):\n",
        "    # Constructor\n",
        "    def __init__(self, radius=3, color='blue'):\n",
        "        self.radius = radius\n",
        "        self.color = color\n",
        "    # Method\n",
        "    def add_radius(self, r):\n",
        "        self.radius = self.radius + r\n",
        "        return(self.radius)\n",
        "    # Method\n",
        "    def drawCircle(self):\n",
        "        plt.gca().add_patch(plt.Circle((0, 0), radius=self.radius, fc=self.color))\n",
        "        plt.axis('scaled')\n",
        "        plt.show()\n",
        "default_circle=Circle(25,(1, 1, 0,1))\n",
        "default_circle.drawCircle()"
      ]
    },
    {
      "cell_type": "code",
      "execution_count": null,
      "metadata": {
        "id": "0b1P4gIiCe8M"
      },
      "outputs": [],
      "source": [
        "no_of_tests=int(input())\n",
        "for j in range(0,no_of_tests):\n",
        "    no_of_bag,no_of_kids=input().split(\" \",2)\n",
        "    no_of_kids=int(no_of_kids)\n",
        "    no_of_bag=int(no_of_bag)\n",
        "    sum_of_candy=0\n",
        "    no_of_candy=input().split(\" \",no_of_bag)\n",
        "    list_of_candy=list(no_of_candy)\n",
        "    for k in range(0,len(list_of_candy)):\n",
        "        list_of_candy[k]=int(list_of_candy[k])\n",
        "    sum_of_candy+=sum(list_of_candy)\n",
        "    total_no_of_candy=sum_of_candy\n",
        "    remaning_candy=total_no_of_candy%no_of_kids\n",
        "    print(\"Case #\"+str(j)+\":\"+str(remaning_candy))"
      ]
    },
    {
      "cell_type": "code",
      "execution_count": null,
      "metadata": {
        "colab": {
          "base_uri": "https://localhost:8080/"
        },
        "id": "PFxnW5tyZb2u",
        "outputId": "7878bd8c-0c29-44de-a7d3-b6c5cd67f469"
      },
      "outputs": [
        {
          "name": "stdout",
          "output_type": "stream",
          "text": [
            "5\n",
            "3 4 5 6 3\n",
            "5\n"
          ]
        }
      ],
      "source": [
        "if __name__ == '__main__':\n",
        "    n = int(input())\n",
        "    arr = map(int, input().split(\" \",n-1))\n",
        "    print(sorted(list(set(arr)))[-2])"
      ]
    },
    {
      "cell_type": "code",
      "execution_count": null,
      "metadata": {
        "id": "kYhbrn6GdVQb"
      },
      "outputs": [],
      "source": [
        "# given a permutation p1,p2,p3,p4...pn of length n\n",
        "#for l and r in (0,n) and r>=l  \n",
        "test_cases=int(input())\n",
        "n=int(input())\n",
        "n_numbers=list(map(int,input().split(\" \",n-1)))\n",
        "print(n_numbers)"
      ]
    },
    {
      "cell_type": "code",
      "execution_count": null,
      "metadata": {
        "colab": {
          "base_uri": "https://localhost:8080/",
          "height": 460
        },
        "id": "wzPx865-5jil",
        "outputId": "952ba611-eb70-495c-9bd2-18dd634152d8"
      },
      "outputs": [
        {
          "name": "stdout",
          "output_type": "stream",
          "text": [
            "6\n",
            "akljdaslkd\n",
            "akljdasdk\n",
            "kajsldkjd\n",
            "ajskdjasld\n",
            "kasdklasd\n",
            "\n",
            "['akljdaslkd', 'akljdasdk', 'kajsldkjd', 'ajskdjasld', 'kasdklasd', '']\n",
            "Case #1: akljdaslkd is ruled by Bob.\n",
            "Case #2: akljdasdk is ruled by Bob.\n",
            "Case #3: kajsldkjd is ruled by Bob.\n",
            "Case #4: ajskdjasld is ruled by Bob.\n",
            "Case #5: kasdklasd is ruled by Bob.\n"
          ]
        },
        {
          "ename": "IndexError",
          "evalue": "ignored",
          "output_type": "error",
          "traceback": [
            "\u001b[0;31m---------------------------------------------------------------------------\u001b[0m",
            "\u001b[0;31mIndexError\u001b[0m                                Traceback (most recent call last)",
            "\u001b[0;32m<ipython-input-84-44cdd49f714d>\u001b[0m in \u001b[0;36m<module>\u001b[0;34m()\u001b[0m\n\u001b[1;32m      9\u001b[0m \u001b[0mprint\u001b[0m\u001b[0;34m(\u001b[0m\u001b[0ml\u001b[0m\u001b[0;34m)\u001b[0m\u001b[0;34m\u001b[0m\u001b[0;34m\u001b[0m\u001b[0m\n\u001b[1;32m     10\u001b[0m \u001b[0;32mfor\u001b[0m \u001b[0mi\u001b[0m \u001b[0;32min\u001b[0m \u001b[0mrange\u001b[0m \u001b[0;34m(\u001b[0m\u001b[0mn\u001b[0m\u001b[0;34m)\u001b[0m\u001b[0;34m:\u001b[0m\u001b[0;34m\u001b[0m\u001b[0;34m\u001b[0m\u001b[0m\n\u001b[0;32m---> 11\u001b[0;31m     \u001b[0;32mif\u001b[0m \u001b[0ml\u001b[0m\u001b[0;34m[\u001b[0m\u001b[0mi\u001b[0m\u001b[0;34m]\u001b[0m\u001b[0;34m[\u001b[0m\u001b[0;34m-\u001b[0m\u001b[0;36m1\u001b[0m\u001b[0;34m]\u001b[0m \u001b[0;32min\u001b[0m \u001b[0mz\u001b[0m\u001b[0;34m:\u001b[0m\u001b[0;34m\u001b[0m\u001b[0;34m\u001b[0m\u001b[0m\n\u001b[0m\u001b[1;32m     12\u001b[0m         \u001b[0mprint\u001b[0m\u001b[0;34m(\u001b[0m\u001b[0;34m\"Case #\"\u001b[0m\u001b[0;34m+\u001b[0m\u001b[0mstr\u001b[0m\u001b[0;34m(\u001b[0m\u001b[0mi\u001b[0m\u001b[0;34m+\u001b[0m\u001b[0;36m1\u001b[0m\u001b[0;34m)\u001b[0m\u001b[0;34m+\u001b[0m\u001b[0;34m\": \"\u001b[0m\u001b[0;34m+\u001b[0m\u001b[0mstr\u001b[0m\u001b[0;34m(\u001b[0m\u001b[0ml\u001b[0m\u001b[0;34m[\u001b[0m\u001b[0mi\u001b[0m\u001b[0;34m]\u001b[0m\u001b[0;34m)\u001b[0m\u001b[0;34m+\u001b[0m\u001b[0;34m\" is ruled by Alice.\"\u001b[0m\u001b[0;34m)\u001b[0m\u001b[0;34m\u001b[0m\u001b[0;34m\u001b[0m\u001b[0m\n\u001b[1;32m     13\u001b[0m     \u001b[0;32melif\u001b[0m \u001b[0ml\u001b[0m\u001b[0;34m[\u001b[0m\u001b[0mi\u001b[0m\u001b[0;34m]\u001b[0m\u001b[0;34m[\u001b[0m\u001b[0;34m-\u001b[0m\u001b[0;36m1\u001b[0m\u001b[0;34m]\u001b[0m\u001b[0;34m==\u001b[0m\u001b[0;34m\"y\"\u001b[0m\u001b[0;34m:\u001b[0m\u001b[0;34m\u001b[0m\u001b[0;34m\u001b[0m\u001b[0m\n",
            "\u001b[0;31mIndexError\u001b[0m: string index out of range"
          ]
        }
      ],
      "source": [
        "# the no of cases \n",
        "# the each name of kindom in a list \n",
        "n = int (input())\n",
        "z=[\"a\",\"e\",\"i\",\"o\",\"u\"]\n",
        "l=[]\n",
        "for i in range (n):\n",
        "    t = input()\n",
        "    l.append(t)\n",
        "print(l)\n",
        "for i in range (n):\n",
        "    if l[i][-1] in z:\n",
        "        print(\"Case #\"+str(i+1)+\": \"+str(l[i])+\" is ruled by Alice.\")\n",
        "    elif l[i][-1]==\"y\":\n",
        "        print(\"Case #\"+str(i+1)+\": \"+str(l[i])+\" is ruled by nobody.\")\n",
        "    else:\n",
        "        print(\"Case #\"+str(i+1)+\": \"+str(l[i])+\" is ruled by Bob.\")"
      ]
    },
    {
      "cell_type": "markdown",
      "metadata": {
        "id": "O0OaqRe0MIeA"
      },
      "source": [
        "**ANN-Artificial Neural network**\n",
        "\n",
        "CNN- used for c=image processing\n",
        "RNN -recurrent nural network\n",
        "(used for texts)\n",
        "___\n",
        "Neural Network \n",
        "how exactly neural network works ?\n",
        "(1)First-Input layer(eg - hand) \n",
        "\n",
        "Second- Hidden layer(eg - set of neuron or neural netword one neural network is compulsory)**(all the computation happens)**\n",
        "\n",
        "(1)Third-Output layer(eg - brain)\n",
        "___\n",
        "neural parts (submission part(tail,eye,fur color)input and weights(given to all the inputs)**y=wx+b** --> y=x1*w1+x2*w2+x3*w3\n",
        "and function part(activation function))sigmoid \n",
        "relu\n",
        "tanh\n",
        "\n",
        "Loss function (more loss less accuracy)\n",
        "Optimizer (minimize the loss)\n",
        "\n",
        "\n"
      ]
    },
    {
      "cell_type": "markdown",
      "metadata": {
        "id": "rG4BwTK0PtCZ"
      },
      "source": [
        "importing the liraries"
      ]
    },
    {
      "cell_type": "code",
      "execution_count": null,
      "metadata": {
        "id": "uSsu8Z1xPs2g"
      },
      "outputs": [],
      "source": [
        "import numpy as np\n",
        "import matplotlib.pyplot as plt\n",
        "import seaborn as sns\n",
        "import tensorflow as tf\n",
        "from tensorflow import keras\n"
      ]
    },
    {
      "cell_type": "markdown",
      "metadata": {
        "id": "6piYCLz3P8w6"
      },
      "source": [
        "1.Theano\n",
        "2.Keras\n",
        "3.Tensorflow\n",
        "4.PyTorch\n"
      ]
    },
    {
      "cell_type": "code",
      "execution_count": null,
      "metadata": {
        "id": "gDIkzx_iQVD5"
      },
      "outputs": [],
      "source": [
        "data = keras.datasets.mnist"
      ]
    },
    {
      "cell_type": "code",
      "execution_count": null,
      "metadata": {
        "colab": {
          "base_uri": "https://localhost:8080/"
        },
        "id": "F1yi8ZocQVke",
        "outputId": "96a9f9c6-8b88-4707-b5f6-d995a898081c"
      },
      "outputs": [
        {
          "data": {
            "text/plain": [
              "<module 'keras.api._v2.keras.datasets.mnist' from '/usr/local/lib/python3.7/dist-packages/keras/api/_v2/keras/datasets/mnist/__init__.py'>"
            ]
          },
          "execution_count": 12,
          "metadata": {},
          "output_type": "execute_result"
        }
      ],
      "source": [
        "data "
      ]
    },
    {
      "cell_type": "code",
      "execution_count": null,
      "metadata": {
        "colab": {
          "base_uri": "https://localhost:8080/"
        },
        "id": "24MuZadTQV9P",
        "outputId": "b6e42dfb-0e6b-4220-96f4-3b1d4882f8d8"
      },
      "outputs": [
        {
          "name": "stdout",
          "output_type": "stream",
          "text": [
            "Downloading data from https://storage.googleapis.com/tensorflow/tf-keras-datasets/mnist.npz\n",
            "11493376/11490434 [==============================] - 0s 0us/step\n",
            "11501568/11490434 [==============================] - 0s 0us/step\n"
          ]
        }
      ],
      "source": [
        "df =data.load_data()"
      ]
    },
    {
      "cell_type": "code",
      "execution_count": null,
      "metadata": {
        "colab": {
          "base_uri": "https://localhost:8080/"
        },
        "id": "I_mLlz8LQx4x",
        "outputId": "d7634d5e-3c2b-446e-ffc7-45984b6ea8e7"
      },
      "outputs": [
        {
          "data": {
            "text/plain": [
              "((array([[[0, 0, 0, ..., 0, 0, 0],\n",
              "          [0, 0, 0, ..., 0, 0, 0],\n",
              "          [0, 0, 0, ..., 0, 0, 0],\n",
              "          ...,\n",
              "          [0, 0, 0, ..., 0, 0, 0],\n",
              "          [0, 0, 0, ..., 0, 0, 0],\n",
              "          [0, 0, 0, ..., 0, 0, 0]],\n",
              "  \n",
              "         [[0, 0, 0, ..., 0, 0, 0],\n",
              "          [0, 0, 0, ..., 0, 0, 0],\n",
              "          [0, 0, 0, ..., 0, 0, 0],\n",
              "          ...,\n",
              "          [0, 0, 0, ..., 0, 0, 0],\n",
              "          [0, 0, 0, ..., 0, 0, 0],\n",
              "          [0, 0, 0, ..., 0, 0, 0]],\n",
              "  \n",
              "         [[0, 0, 0, ..., 0, 0, 0],\n",
              "          [0, 0, 0, ..., 0, 0, 0],\n",
              "          [0, 0, 0, ..., 0, 0, 0],\n",
              "          ...,\n",
              "          [0, 0, 0, ..., 0, 0, 0],\n",
              "          [0, 0, 0, ..., 0, 0, 0],\n",
              "          [0, 0, 0, ..., 0, 0, 0]],\n",
              "  \n",
              "         ...,\n",
              "  \n",
              "         [[0, 0, 0, ..., 0, 0, 0],\n",
              "          [0, 0, 0, ..., 0, 0, 0],\n",
              "          [0, 0, 0, ..., 0, 0, 0],\n",
              "          ...,\n",
              "          [0, 0, 0, ..., 0, 0, 0],\n",
              "          [0, 0, 0, ..., 0, 0, 0],\n",
              "          [0, 0, 0, ..., 0, 0, 0]],\n",
              "  \n",
              "         [[0, 0, 0, ..., 0, 0, 0],\n",
              "          [0, 0, 0, ..., 0, 0, 0],\n",
              "          [0, 0, 0, ..., 0, 0, 0],\n",
              "          ...,\n",
              "          [0, 0, 0, ..., 0, 0, 0],\n",
              "          [0, 0, 0, ..., 0, 0, 0],\n",
              "          [0, 0, 0, ..., 0, 0, 0]],\n",
              "  \n",
              "         [[0, 0, 0, ..., 0, 0, 0],\n",
              "          [0, 0, 0, ..., 0, 0, 0],\n",
              "          [0, 0, 0, ..., 0, 0, 0],\n",
              "          ...,\n",
              "          [0, 0, 0, ..., 0, 0, 0],\n",
              "          [0, 0, 0, ..., 0, 0, 0],\n",
              "          [0, 0, 0, ..., 0, 0, 0]]], dtype=uint8),\n",
              "  array([5, 0, 4, ..., 5, 6, 8], dtype=uint8)),\n",
              " (array([[[0, 0, 0, ..., 0, 0, 0],\n",
              "          [0, 0, 0, ..., 0, 0, 0],\n",
              "          [0, 0, 0, ..., 0, 0, 0],\n",
              "          ...,\n",
              "          [0, 0, 0, ..., 0, 0, 0],\n",
              "          [0, 0, 0, ..., 0, 0, 0],\n",
              "          [0, 0, 0, ..., 0, 0, 0]],\n",
              "  \n",
              "         [[0, 0, 0, ..., 0, 0, 0],\n",
              "          [0, 0, 0, ..., 0, 0, 0],\n",
              "          [0, 0, 0, ..., 0, 0, 0],\n",
              "          ...,\n",
              "          [0, 0, 0, ..., 0, 0, 0],\n",
              "          [0, 0, 0, ..., 0, 0, 0],\n",
              "          [0, 0, 0, ..., 0, 0, 0]],\n",
              "  \n",
              "         [[0, 0, 0, ..., 0, 0, 0],\n",
              "          [0, 0, 0, ..., 0, 0, 0],\n",
              "          [0, 0, 0, ..., 0, 0, 0],\n",
              "          ...,\n",
              "          [0, 0, 0, ..., 0, 0, 0],\n",
              "          [0, 0, 0, ..., 0, 0, 0],\n",
              "          [0, 0, 0, ..., 0, 0, 0]],\n",
              "  \n",
              "         ...,\n",
              "  \n",
              "         [[0, 0, 0, ..., 0, 0, 0],\n",
              "          [0, 0, 0, ..., 0, 0, 0],\n",
              "          [0, 0, 0, ..., 0, 0, 0],\n",
              "          ...,\n",
              "          [0, 0, 0, ..., 0, 0, 0],\n",
              "          [0, 0, 0, ..., 0, 0, 0],\n",
              "          [0, 0, 0, ..., 0, 0, 0]],\n",
              "  \n",
              "         [[0, 0, 0, ..., 0, 0, 0],\n",
              "          [0, 0, 0, ..., 0, 0, 0],\n",
              "          [0, 0, 0, ..., 0, 0, 0],\n",
              "          ...,\n",
              "          [0, 0, 0, ..., 0, 0, 0],\n",
              "          [0, 0, 0, ..., 0, 0, 0],\n",
              "          [0, 0, 0, ..., 0, 0, 0]],\n",
              "  \n",
              "         [[0, 0, 0, ..., 0, 0, 0],\n",
              "          [0, 0, 0, ..., 0, 0, 0],\n",
              "          [0, 0, 0, ..., 0, 0, 0],\n",
              "          ...,\n",
              "          [0, 0, 0, ..., 0, 0, 0],\n",
              "          [0, 0, 0, ..., 0, 0, 0],\n",
              "          [0, 0, 0, ..., 0, 0, 0]]], dtype=uint8),\n",
              "  array([7, 2, 1, ..., 4, 5, 6], dtype=uint8)))"
            ]
          },
          "execution_count": 14,
          "metadata": {},
          "output_type": "execute_result"
        }
      ],
      "source": [
        "df"
      ]
    },
    {
      "cell_type": "code",
      "execution_count": null,
      "metadata": {
        "id": "Pei1EVmNQ3sL"
      },
      "outputs": [],
      "source": [
        "(x_train,y_train),(x_test,y_test) = df"
      ]
    },
    {
      "cell_type": "code",
      "execution_count": null,
      "metadata": {
        "colab": {
          "base_uri": "https://localhost:8080/"
        },
        "id": "NSOPPY0BQ38J",
        "outputId": "dcf007b2-a118-409b-8029-57232ee20b33"
      },
      "outputs": [
        {
          "data": {
            "text/plain": [
              "(60000, 28, 28)"
            ]
          },
          "execution_count": 18,
          "metadata": {},
          "output_type": "execute_result"
        }
      ],
      "source": [
        "x_train.shape"
      ]
    },
    {
      "cell_type": "code",
      "execution_count": null,
      "metadata": {
        "colab": {
          "base_uri": "https://localhost:8080/"
        },
        "id": "Ud9LBBLyQ4Xf",
        "outputId": "f6f4d18d-ea8a-4c25-b97f-c62b622faded"
      },
      "outputs": [
        {
          "data": {
            "text/plain": [
              "(10000, 28, 28)"
            ]
          },
          "execution_count": 19,
          "metadata": {},
          "output_type": "execute_result"
        }
      ],
      "source": [
        "x_test.shape"
      ]
    },
    {
      "cell_type": "code",
      "execution_count": null,
      "metadata": {
        "colab": {
          "base_uri": "https://localhost:8080/"
        },
        "id": "mUj6i3CoQ4v-",
        "outputId": "05c1b1cf-cd70-48ac-a2d8-8b38d93c8013"
      },
      "outputs": [
        {
          "data": {
            "text/plain": [
              "array([[  0,   0,   0,   0,   0,   0,   0,   0,   0,   0,   0,   0,   0,\n",
              "          0,   0,   0,   0,   0,   0,   0,   0,   0,   0,   0,   0,   0,\n",
              "          0,   0],\n",
              "       [  0,   0,   0,   0,   0,   0,   0,   0,   0,   0,   0,   0,   0,\n",
              "          0,   0,   0,   0,   0,   0,   0,   0,   0,   0,   0,   0,   0,\n",
              "          0,   0],\n",
              "       [  0,   0,   0,   0,   0,   0,   0,   0,   0,   0,   0,   0,   0,\n",
              "          0,   0,   0,   0,   0,   0,   0,   0,   0,   0,   0,   0,   0,\n",
              "          0,   0],\n",
              "       [  0,   0,   0,   0,   0,   0,   0,   0,   0,   0,   0,   0,   0,\n",
              "          0,   0,   0,   0,   0,   0,   0,   0,   0,   0,   0,   0,   0,\n",
              "          0,   0],\n",
              "       [  0,   0,   0,   0,   0,   0,   0,   0,   0,   0,   0,   0,   0,\n",
              "          0,   0,   0,   0,   0,   0,   0,   0,   0,   0,   0,   0,   0,\n",
              "          0,   0],\n",
              "       [  0,   0,   0,   0,   0,   0,   0,   0,   0,   0,   0,   0,   3,\n",
              "         18,  18,  18, 126, 136, 175,  26, 166, 255, 247, 127,   0,   0,\n",
              "          0,   0],\n",
              "       [  0,   0,   0,   0,   0,   0,   0,   0,  30,  36,  94, 154, 170,\n",
              "        253, 253, 253, 253, 253, 225, 172, 253, 242, 195,  64,   0,   0,\n",
              "          0,   0],\n",
              "       [  0,   0,   0,   0,   0,   0,   0,  49, 238, 253, 253, 253, 253,\n",
              "        253, 253, 253, 253, 251,  93,  82,  82,  56,  39,   0,   0,   0,\n",
              "          0,   0],\n",
              "       [  0,   0,   0,   0,   0,   0,   0,  18, 219, 253, 253, 253, 253,\n",
              "        253, 198, 182, 247, 241,   0,   0,   0,   0,   0,   0,   0,   0,\n",
              "          0,   0],\n",
              "       [  0,   0,   0,   0,   0,   0,   0,   0,  80, 156, 107, 253, 253,\n",
              "        205,  11,   0,  43, 154,   0,   0,   0,   0,   0,   0,   0,   0,\n",
              "          0,   0],\n",
              "       [  0,   0,   0,   0,   0,   0,   0,   0,   0,  14,   1, 154, 253,\n",
              "         90,   0,   0,   0,   0,   0,   0,   0,   0,   0,   0,   0,   0,\n",
              "          0,   0],\n",
              "       [  0,   0,   0,   0,   0,   0,   0,   0,   0,   0,   0, 139, 253,\n",
              "        190,   2,   0,   0,   0,   0,   0,   0,   0,   0,   0,   0,   0,\n",
              "          0,   0],\n",
              "       [  0,   0,   0,   0,   0,   0,   0,   0,   0,   0,   0,  11, 190,\n",
              "        253,  70,   0,   0,   0,   0,   0,   0,   0,   0,   0,   0,   0,\n",
              "          0,   0],\n",
              "       [  0,   0,   0,   0,   0,   0,   0,   0,   0,   0,   0,   0,  35,\n",
              "        241, 225, 160, 108,   1,   0,   0,   0,   0,   0,   0,   0,   0,\n",
              "          0,   0],\n",
              "       [  0,   0,   0,   0,   0,   0,   0,   0,   0,   0,   0,   0,   0,\n",
              "         81, 240, 253, 253, 119,  25,   0,   0,   0,   0,   0,   0,   0,\n",
              "          0,   0],\n",
              "       [  0,   0,   0,   0,   0,   0,   0,   0,   0,   0,   0,   0,   0,\n",
              "          0,  45, 186, 253, 253, 150,  27,   0,   0,   0,   0,   0,   0,\n",
              "          0,   0],\n",
              "       [  0,   0,   0,   0,   0,   0,   0,   0,   0,   0,   0,   0,   0,\n",
              "          0,   0,  16,  93, 252, 253, 187,   0,   0,   0,   0,   0,   0,\n",
              "          0,   0],\n",
              "       [  0,   0,   0,   0,   0,   0,   0,   0,   0,   0,   0,   0,   0,\n",
              "          0,   0,   0,   0, 249, 253, 249,  64,   0,   0,   0,   0,   0,\n",
              "          0,   0],\n",
              "       [  0,   0,   0,   0,   0,   0,   0,   0,   0,   0,   0,   0,   0,\n",
              "          0,  46, 130, 183, 253, 253, 207,   2,   0,   0,   0,   0,   0,\n",
              "          0,   0],\n",
              "       [  0,   0,   0,   0,   0,   0,   0,   0,   0,   0,   0,   0,  39,\n",
              "        148, 229, 253, 253, 253, 250, 182,   0,   0,   0,   0,   0,   0,\n",
              "          0,   0],\n",
              "       [  0,   0,   0,   0,   0,   0,   0,   0,   0,   0,  24, 114, 221,\n",
              "        253, 253, 253, 253, 201,  78,   0,   0,   0,   0,   0,   0,   0,\n",
              "          0,   0],\n",
              "       [  0,   0,   0,   0,   0,   0,   0,   0,  23,  66, 213, 253, 253,\n",
              "        253, 253, 198,  81,   2,   0,   0,   0,   0,   0,   0,   0,   0,\n",
              "          0,   0],\n",
              "       [  0,   0,   0,   0,   0,   0,  18, 171, 219, 253, 253, 253, 253,\n",
              "        195,  80,   9,   0,   0,   0,   0,   0,   0,   0,   0,   0,   0,\n",
              "          0,   0],\n",
              "       [  0,   0,   0,   0,  55, 172, 226, 253, 253, 253, 253, 244, 133,\n",
              "         11,   0,   0,   0,   0,   0,   0,   0,   0,   0,   0,   0,   0,\n",
              "          0,   0],\n",
              "       [  0,   0,   0,   0, 136, 253, 253, 253, 212, 135, 132,  16,   0,\n",
              "          0,   0,   0,   0,   0,   0,   0,   0,   0,   0,   0,   0,   0,\n",
              "          0,   0],\n",
              "       [  0,   0,   0,   0,   0,   0,   0,   0,   0,   0,   0,   0,   0,\n",
              "          0,   0,   0,   0,   0,   0,   0,   0,   0,   0,   0,   0,   0,\n",
              "          0,   0],\n",
              "       [  0,   0,   0,   0,   0,   0,   0,   0,   0,   0,   0,   0,   0,\n",
              "          0,   0,   0,   0,   0,   0,   0,   0,   0,   0,   0,   0,   0,\n",
              "          0,   0],\n",
              "       [  0,   0,   0,   0,   0,   0,   0,   0,   0,   0,   0,   0,   0,\n",
              "          0,   0,   0,   0,   0,   0,   0,   0,   0,   0,   0,   0,   0,\n",
              "          0,   0]], dtype=uint8)"
            ]
          },
          "execution_count": 20,
          "metadata": {},
          "output_type": "execute_result"
        }
      ],
      "source": [
        "x_train[0]"
      ]
    },
    {
      "cell_type": "code",
      "execution_count": null,
      "metadata": {
        "colab": {
          "base_uri": "https://localhost:8080/",
          "height": 292
        },
        "id": "3ijkkXIOQ40a",
        "outputId": "0652da3d-3686-4909-fbdf-8c03fe55ebfc"
      },
      "outputs": [
        {
          "data": {
            "text/plain": [
              "<matplotlib.image.AxesImage at 0x7f26b147dad0>"
            ]
          },
          "execution_count": 21,
          "metadata": {},
          "output_type": "execute_result"
        },
        {
          "data": {
            "image/png": "[encoded data removed]",
            "text/plain": [
              "<Figure size 288x288 with 1 Axes>"
            ]
          },
          "metadata": {},
          "output_type": "display_data"
        }
      ],
      "source": [
        "plt.matshow(x_train[0])"
      ]
    },
    {
      "cell_type": "code",
      "execution_count": null,
      "metadata": {
        "colab": {
          "base_uri": "https://localhost:8080/",
          "height": 292
        },
        "id": "Y1IwGZJOQ4-F",
        "outputId": "1967317d-bc0b-4201-910d-51ee69dcf8d7"
      },
      "outputs": [
        {
          "data": {
            "text/plain": [
              "<matplotlib.image.AxesImage at 0x7f26b0b7c810>"
            ]
          },
          "execution_count": 22,
          "metadata": {},
          "output_type": "execute_result"
        },
        {
          "data": {
            "image/png": "[encoded data removed]",
            "text/plain": [
              "<Figure size 288x288 with 1 Axes>"
            ]
          },
          "metadata": {},
          "output_type": "display_data"
        }
      ],
      "source": [
        "plt.matshow(x_train[1])"
      ]
    },
    {
      "cell_type": "code",
      "execution_count": null,
      "metadata": {
        "colab": {
          "base_uri": "https://localhost:8080/",
          "height": 1000
        },
        "id": "UNOBFjD-Q5CQ",
        "outputId": "c2a1733a-a185-4812-baf1-c8410c4f285f"
      },
      "outputs": [
        {
          "data": {
            "image/png": "[encoded data removed]",
            "text/plain": [
              "<Figure size 288x288 with 1 Axes>"
            ]
          },
          "metadata": {},
          "output_type": "display_data"
        },
        {
          "data": {
            "image/png": "[encoded data removed]",
            "text/plain": [
              "<Figure size 288x288 with 1 Axes>"
            ]
          },
          "metadata": {},
          "output_type": "display_data"
        },
        {
          "data": {
            "image/png": "[encoded data removed]",
            "text/plain": [
              "<Figure size 288x288 with 1 Axes>"
            ]
          },
          "metadata": {},
          "output_type": "display_data"
        },
        {
          "data": {
            "image/png": "[encoded data removed]",
            "text/plain": [
              "<Figure size 288x288 with 1 Axes>"
            ]
          },
          "metadata": {},
          "output_type": "display_data"
        },
        {
          "data": {
            "image/png": "[encoded data removed]",
            "text/plain": [
              "<Figure size 288x288 with 1 Axes>"
            ]
          },
          "metadata": {},
          "output_type": "display_data"
        },
        {
          "data": {
            "image/png": "[encoded data removed]",
            "text/plain": [
              "<Figure size 288x288 with 1 Axes>"
            ]
          },
          "metadata": {},
          "output_type": "display_data"
        },
        {
          "data": {
            "image/png": "[encoded data removed]",
            "text/plain": [
              "<Figure size 288x288 with 1 Axes>"
            ]
          },
          "metadata": {},
          "output_type": "display_data"
        },
        {
          "data": {
            "image/png": "[encoded data removed]",
            "text/plain": [
              "<Figure size 288x288 with 1 Axes>"
            ]
          },
          "metadata": {},
          "output_type": "display_data"
        },
        {
          "data": {
            "image/png": "[encoded data removed]",
            "text/plain": [
              "<Figure size 288x288 with 1 Axes>"
            ]
          },
          "metadata": {},
          "output_type": "display_data"
        },
        {
          "data": {
            "image/png": "[encoded data removed]",
            "text/plain": [
              "<Figure size 288x288 with 1 Axes>"
            ]
          },
          "metadata": {},
          "output_type": "display_data"
        }
      ],
      "source": [
        "for i in range(10):\n",
        "    plt.matshow(x_train[i])"
      ]
    },
    {
      "cell_type": "code",
      "execution_count": null,
      "metadata": {
        "colab": {
          "base_uri": "https://localhost:8080/"
        },
        "id": "ZdP3jNYqQ5Fe",
        "outputId": "7b8ce17d-d9f9-4935-9be9-8fa34420388a"
      },
      "outputs": [
        {
          "data": {
            "text/plain": [
              "(10000,)"
            ]
          },
          "execution_count": 24,
          "metadata": {},
          "output_type": "execute_result"
        }
      ],
      "source": [
        "y_test.shape"
      ]
    },
    {
      "cell_type": "code",
      "execution_count": null,
      "metadata": {
        "colab": {
          "base_uri": "https://localhost:8080/"
        },
        "id": "JM95hb8cQ5QE",
        "outputId": "e5a75052-5ba5-4e03-abfe-4afe3ca5a3ca"
      },
      "outputs": [
        {
          "data": {
            "text/plain": [
              "1"
            ]
          },
          "execution_count": 27,
          "metadata": {},
          "output_type": "execute_result"
        }
      ],
      "source": [
        "y_test.ndim"
      ]
    },
    {
      "cell_type": "code",
      "execution_count": null,
      "metadata": {
        "colab": {
          "base_uri": "https://localhost:8080/"
        },
        "id": "mbjUpTDbQ5TK",
        "outputId": "14760c22-2521-495d-ceff-30e7067af653"
      },
      "outputs": [
        {
          "data": {
            "text/plain": [
              "3"
            ]
          },
          "execution_count": 28,
          "metadata": {},
          "output_type": "execute_result"
        }
      ],
      "source": [
        "x_test.ndim"
      ]
    },
    {
      "cell_type": "code",
      "execution_count": null,
      "metadata": {
        "id": "jbos0trTQ5Wg"
      },
      "outputs": [],
      "source": [
        "x_train_flat = x_train.reshape(-1,28*28)\n",
        "x_test_flat = x_test.reshape(-1,28*28)"
      ]
    },
    {
      "cell_type": "markdown",
      "metadata": {
        "id": "_QxoWPN8Q5Za"
      },
      "source": [
        ""
      ]
    },
    {
      "cell_type": "code",
      "execution_count": null,
      "metadata": {
        "colab": {
          "base_uri": "https://localhost:8080/"
        },
        "id": "YDsmxDz5S-fQ",
        "outputId": "cc08ed0d-b163-47f0-ab45-4e2fb9316661"
      },
      "outputs": [
        {
          "data": {
            "text/plain": [
              "1"
            ]
          },
          "execution_count": 30,
          "metadata": {},
          "output_type": "execute_result"
        }
      ],
      "source": [
        "x_train_flat[0].ndim"
      ]
    },
    {
      "cell_type": "markdown",
      "metadata": {
        "id": "NstSZ46ETYD2"
      },
      "source": [
        "ann model creation "
      ]
    },
    {
      "cell_type": "markdown",
      "metadata": {
        "id": "hz4ah1-N2UD4"
      },
      "source": [
        "ann creation model"
      ]
    },
    {
      "cell_type": "code",
      "execution_count": null,
      "metadata": {
        "id": "a4CFPYhES_G1"
      },
      "outputs": [],
      "source": [
        "from tensorflow.keras import Sequential\n",
        "from tensorflow.keras.layers import Dense\n"
      ]
    },
    {
      "cell_type": "code",
      "execution_count": null,
      "metadata": {
        "id": "Siy-_94OS_Ns"
      },
      "outputs": [],
      "source": [
        "from tensorflow.python.keras.layers.core import Activation\n",
        "model =Sequential([\n",
        "                   #first hidden layer\n",
        "                   Dense(units =10,\n",
        "                         input_shape=(784,),\n",
        "                         activation='sigmoid'),\n",
        "                   #second hidden layer\n",
        "                   Dense(units =10,\n",
        "                         activation='sigmoid')\n",
        "])\n",
        "model.compile(optimizer ='adam',\n",
        "              loss='sparse_categorical_crossentropy',\n",
        "              metrics=['accuracy']\n",
        ")"
      ]
    },
    {
      "cell_type": "code",
      "execution_count": null,
      "metadata": {
        "colab": {
          "base_uri": "https://localhost:8080/"
        },
        "id": "jUaC29DIUvWU",
        "outputId": "81c9b5b0-272c-4aa8-f179-234967173987"
      },
      "outputs": [
        {
          "data": {
            "text/plain": [
              "(784,)"
            ]
          },
          "execution_count": 52,
          "metadata": {},
          "output_type": "execute_result"
        }
      ],
      "source": [
        "x_train_flat[0].shape"
      ]
    },
    {
      "cell_type": "code",
      "execution_count": null,
      "metadata": {
        "colab": {
          "base_uri": "https://localhost:8080/"
        },
        "id": "9dLO_whRU0LM",
        "outputId": "3cc39a7f-3774-4ee5-f12c-c847c2ea861a"
      },
      "outputs": [
        {
          "name": "stdout",
          "output_type": "stream",
          "text": [
            "Epoch 1/10\n",
            "1875/1875 [==============================] - 4s 2ms/step - loss: 1.2643 - accuracy: 0.6648\n",
            "Epoch 2/10\n",
            "1875/1875 [==============================] - 4s 2ms/step - loss: 0.7045 - accuracy: 0.8081\n",
            "Epoch 3/10\n",
            "1875/1875 [==============================] - 4s 2ms/step - loss: 0.5970 - accuracy: 0.8293\n",
            "Epoch 4/10\n",
            "1875/1875 [==============================] - 4s 2ms/step - loss: 0.5762 - accuracy: 0.8293\n",
            "Epoch 5/10\n",
            "1875/1875 [==============================] - 6s 3ms/step - loss: 0.5256 - accuracy: 0.8471\n",
            "Epoch 6/10\n",
            "1875/1875 [==============================] - 4s 2ms/step - loss: 0.5256 - accuracy: 0.8439\n",
            "Epoch 7/10\n",
            "1875/1875 [==============================] - 4s 2ms/step - loss: 0.5180 - accuracy: 0.8461\n",
            "Epoch 8/10\n",
            "1875/1875 [==============================] - 4s 2ms/step - loss: 0.5036 - accuracy: 0.8533\n",
            "Epoch 9/10\n",
            "1875/1875 [==============================] - 4s 2ms/step - loss: 0.4862 - accuracy: 0.8610\n",
            "Epoch 10/10\n",
            "1875/1875 [==============================] - 4s 2ms/step - loss: 0.4745 - accuracy: 0.8625\n"
          ]
        },
        {
          "data": {
            "text/plain": [
              "<keras.callbacks.History at 0x7f26a9a01090>"
            ]
          },
          "execution_count": 53,
          "metadata": {},
          "output_type": "execute_result"
        }
      ],
      "source": [
        "model.fit(x_train_flat, y_train, epochs=10)"
      ]
    },
    {
      "cell_type": "code",
      "execution_count": null,
      "metadata": {
        "id": "OydxzF7xVYMh"
      },
      "outputs": [],
      "source": [
        "#testing the model\n",
        "y_pred=model.predict(x_test_flat)"
      ]
    },
    {
      "cell_type": "code",
      "execution_count": null,
      "metadata": {
        "colab": {
          "base_uri": "https://localhost:8080/"
        },
        "id": "LMnHERIlXGlr",
        "outputId": "10caf68c-2389-4a0d-fd88-6cdb1d814799"
      },
      "outputs": [
        {
          "data": {
            "text/plain": [
              "array([[4.49356139e-02, 5.19171357e-03, 2.56453216e-01, ...,\n",
              "        9.95329380e-01, 5.66282868e-02, 8.06277037e-01],\n",
              "       [5.62694967e-02, 1.84080303e-02, 9.94832516e-01, ...,\n",
              "        2.61287987e-02, 3.49950671e-01, 1.44845247e-03],\n",
              "       [2.41163373e-03, 9.97621596e-01, 2.41976380e-01, ...,\n",
              "        1.53688431e-01, 4.03312385e-01, 4.59744036e-02],\n",
              "       ...,\n",
              "       [1.83641911e-04, 1.90189779e-02, 8.44592452e-02, ...,\n",
              "        2.67627001e-01, 4.08212304e-01, 8.84964943e-01],\n",
              "       [5.40712178e-02, 1.98847145e-01, 1.10161066e-01, ...,\n",
              "        3.68121266e-03, 7.60695457e-01, 3.37544084e-03],\n",
              "       [5.88759959e-01, 1.20103359e-02, 6.67596519e-01, ...,\n",
              "        5.02325892e-02, 3.97269726e-02, 1.77811086e-02]], dtype=float32)"
            ]
          },
          "execution_count": 55,
          "metadata": {},
          "output_type": "execute_result"
        }
      ],
      "source": [
        "y_pred"
      ]
    },
    {
      "cell_type": "code",
      "execution_count": null,
      "metadata": {
        "colab": {
          "base_uri": "https://localhost:8080/"
        },
        "id": "StyyjeP8XJrG",
        "outputId": "c6cabbea-4425-49cd-d431-f7c0b74aeab9"
      },
      "outputs": [
        {
          "data": {
            "text/plain": [
              "array([7, 2, 1, ..., 4, 5, 6], dtype=uint8)"
            ]
          },
          "execution_count": 56,
          "metadata": {},
          "output_type": "execute_result"
        }
      ],
      "source": [
        "y_test"
      ]
    },
    {
      "cell_type": "code",
      "execution_count": null,
      "metadata": {
        "colab": {
          "base_uri": "https://localhost:8080/"
        },
        "id": "UKbmDV4UXNJA",
        "outputId": "816ac649-69f7-45e3-fb7d-13c9bf0bff90"
      },
      "outputs": [
        {
          "name": "stdout",
          "output_type": "stream",
          "text": [
            "313/313 [==============================] - 1s 2ms/step - loss: 0.4940 - accuracy: 0.8656\n"
          ]
        },
        {
          "data": {
            "text/plain": [
              "[0.4939943253993988, 0.8655999898910522]"
            ]
          },
          "execution_count": 57,
          "metadata": {},
          "output_type": "execute_result"
        }
      ],
      "source": [
        "model.evaluate(x_test_flat,y_test)"
      ]
    },
    {
      "cell_type": "markdown",
      "metadata": {
        "id": "b_SgaurjX-eG"
      },
      "source": [
        "*Dataset:\n",
        "\n",
        "*Attendence:\n",
        "\n",
        "*Submission:"
      ]
    },
    {
      "cell_type": "code",
      "execution_count": null,
      "metadata": {
        "colab": {
          "base_uri": "https://localhost:8080/"
        },
        "id": "VOKNxFuNXZXh",
        "outputId": "b0e4c075-c5a7-4d22-f091-db0e85c4284f"
      },
      "outputs": [
        {
          "name": "stdout",
          "output_type": "stream",
          "text": [
            "5\n",
            "jdkasdkla\n",
            "Case #1: jdkasdkla is ruled by .\n",
            "dklajdad\n",
            "Case #2: dklajdad is ruled by .\n",
            "l;asdklsdj\n",
            "Case #3: l;asdklsdj is ruled by .\n",
            "dkladjkd\n",
            "Case #4: dkladjkd is ruled by .\n",
            "kasdjksaldj\n",
            "Case #5: kasdjksaldj is ruled by .\n"
          ]
        }
      ],
      "source": [
        "# TODO: Complete the get_ruler function\n",
        "def get_ruler(kingdom):\n",
        "  ruler = ''\n",
        "  # TODO: Add logic to determine the ruler of the kingdom\n",
        "  # It should be either 'Alice', 'Bob' or 'nobody'.\n",
        "  return ruler\n",
        "\n",
        "def main():\n",
        "  # Get the number of test cases\n",
        "  T = int(input())\n",
        "  for t in range(T):\n",
        "    # Get the kingdom\n",
        "    kingdom = input()\n",
        "    print('Case #%d: %s is ruled by %s.' % (t + 1, kingdom, get_ruler(kingdom)))\n",
        "\n",
        "if __name__ == '__main__':\n",
        "  main()\n"
      ]
    },
    {
      "cell_type": "code",
      "execution_count": null,
      "metadata": {
        "colab": {
          "base_uri": "https://localhost:8080/"
        },
        "id": "dIii7cRjJa4t",
        "outputId": "56e9e6d7-35dc-44b7-e370-ed3edbcb4502"
      },
      "outputs": [
        {
          "name": "stdout",
          "output_type": "stream",
          "text": [
            "1\n",
            "3\n",
            "5 1 2\n",
            "[5, 2, 1]\n",
            "Case #1: 1 1 1\n"
          ]
        }
      ],
      "source": [
        "def h_index(n, citations):\n",
        "    zeta=0\n",
        "    alpha=0\n",
        "    h_index_list=[]\n",
        "    \n",
        "    temp=list(citations)\n",
        "    temp_citi=sorted(temp)\n",
        "    temp_citi.reverse()\n",
        "    print(temp_citi)\n",
        "    for i in range(0,len(temp_citi)):\n",
        "        if(((temp_citi[i])/(i+1))>=1):\n",
        "            zeta+=1\n",
        "        else:\n",
        "            zeta+=0\n",
        "\n",
        "    for i in range(0,len(temp_citi)):\n",
        "        if((temp[i]//(i+1))>=i):\n",
        "            alpha+=1\n",
        "            h_index_list.append(alpha)\n",
        "        else:\n",
        "            alpha+=0\n",
        "            h_index_list.append(alpha)\n",
        "    \n",
        "    return h_index_list\n",
        "if __name__ == '__main__':\n",
        "  t = int(input())\n",
        "\n",
        "  for test_case in range(1, t + 1):\n",
        "    n = int(input())                      # The number of papers\n",
        "    citations = map(int, input().split()) # The number of citations for each paper\n",
        "    h_index_scores = h_index(n, citations)\n",
        "    print(\"Case #\" + str(test_case) + \": \" + ' '.join(map(str, h_index_scores)))\n"
      ]
    },
    {
      "cell_type": "code",
      "execution_count": null,
      "metadata": {
        "colab": {
          "base_uri": "https://localhost:8080/"
        },
        "id": "4HJUMlEXJrHV",
        "outputId": "3e09ca7f-0702-4cd7-810a-74f0c55fb779"
      },
      "outputs": [
        {
          "name": "stdout",
          "output_type": "stream",
          "text": [
            "2 3 4\n",
            "<class 'list'>\n"
          ]
        }
      ],
      "source": [
        "citations = map(int, input().split())\n",
        "citi=list(citations)\n",
        "print(type(citi))"
      ]
    },
    {
      "cell_type": "code",
      "execution_count": null,
      "metadata": {
        "colab": {
          "base_uri": "https://localhost:8080/",
          "height": 390
        },
        "id": "1ZT8ixd4f-WQ",
        "outputId": "95c04393-6ffb-4b23-90b7-4b78258678f9"
      },
      "outputs": [
        {
          "name": "stdout",
          "output_type": "stream",
          "text": [
            "1\n",
            "6\n",
            "1 3 3 2 2 15\n"
          ]
        },
        {
          "ename": "IndexError",
          "evalue": "ignored",
          "output_type": "error",
          "traceback": [
            "\u001b[0;31m---------------------------------------------------------------------------\u001b[0m",
            "\u001b[0;31mIndexError\u001b[0m                                Traceback (most recent call last)",
            "\u001b[0;32m<ipython-input-88-35d75261d4a9>\u001b[0m in \u001b[0;36m<module>\u001b[0;34m()\u001b[0m\n\u001b[1;32m     20\u001b[0m     \u001b[0mn\u001b[0m \u001b[0;34m=\u001b[0m \u001b[0mint\u001b[0m\u001b[0;34m(\u001b[0m\u001b[0minput\u001b[0m\u001b[0;34m(\u001b[0m\u001b[0;34m)\u001b[0m\u001b[0;34m)\u001b[0m                      \u001b[0;31m# The number of papers\u001b[0m\u001b[0;34m\u001b[0m\u001b[0;34m\u001b[0m\u001b[0m\n\u001b[1;32m     21\u001b[0m     \u001b[0mcitations\u001b[0m \u001b[0;34m=\u001b[0m \u001b[0mmap\u001b[0m\u001b[0;34m(\u001b[0m\u001b[0mint\u001b[0m\u001b[0;34m,\u001b[0m \u001b[0minput\u001b[0m\u001b[0;34m(\u001b[0m\u001b[0;34m)\u001b[0m\u001b[0;34m.\u001b[0m\u001b[0msplit\u001b[0m\u001b[0;34m(\u001b[0m\u001b[0;34m)\u001b[0m\u001b[0;34m)\u001b[0m \u001b[0;31m# The number of citations for each paper\u001b[0m\u001b[0;34m\u001b[0m\u001b[0;34m\u001b[0m\u001b[0m\n\u001b[0;32m---> 22\u001b[0;31m     \u001b[0mh_index_scores\u001b[0m \u001b[0;34m=\u001b[0m \u001b[0mh_index\u001b[0m\u001b[0;34m(\u001b[0m\u001b[0mn\u001b[0m\u001b[0;34m,\u001b[0m \u001b[0mcitations\u001b[0m\u001b[0;34m)\u001b[0m\u001b[0;34m\u001b[0m\u001b[0;34m\u001b[0m\u001b[0m\n\u001b[0m\u001b[1;32m     23\u001b[0m     \u001b[0mprint\u001b[0m\u001b[0;34m(\u001b[0m\u001b[0;34m\"Case #\"\u001b[0m \u001b[0;34m+\u001b[0m \u001b[0mstr\u001b[0m\u001b[0;34m(\u001b[0m\u001b[0mtest_case\u001b[0m\u001b[0;34m)\u001b[0m \u001b[0;34m+\u001b[0m \u001b[0;34m\": \"\u001b[0m \u001b[0;34m+\u001b[0m \u001b[0;34m' '\u001b[0m\u001b[0;34m.\u001b[0m\u001b[0mjoin\u001b[0m\u001b[0;34m(\u001b[0m\u001b[0mmap\u001b[0m\u001b[0;34m(\u001b[0m\u001b[0mstr\u001b[0m\u001b[0;34m,\u001b[0m \u001b[0mh_index_scores\u001b[0m\u001b[0;34m)\u001b[0m\u001b[0;34m)\u001b[0m\u001b[0;34m)\u001b[0m\u001b[0;34m\u001b[0m\u001b[0;34m\u001b[0m\u001b[0m\n",
            "\u001b[0;32m<ipython-input-88-35d75261d4a9>\u001b[0m in \u001b[0;36mh_index\u001b[0;34m(n, citations)\u001b[0m\n\u001b[1;32m     12\u001b[0m             \u001b[0;32mif\u001b[0m\u001b[0;34m(\u001b[0m\u001b[0mx\u001b[0m\u001b[0;34m>=\u001b[0m\u001b[0;36m1\u001b[0m\u001b[0;34m)\u001b[0m\u001b[0;34m:\u001b[0m\u001b[0;34m\u001b[0m\u001b[0;34m\u001b[0m\u001b[0m\n\u001b[1;32m     13\u001b[0m                 \u001b[0my\u001b[0m\u001b[0;34m.\u001b[0m\u001b[0mappend\u001b[0m\u001b[0;34m(\u001b[0m\u001b[0mx\u001b[0m\u001b[0;34m)\u001b[0m\u001b[0;34m\u001b[0m\u001b[0;34m\u001b[0m\u001b[0m\n\u001b[0;32m---> 14\u001b[0;31m                 \u001b[0;32mif\u001b[0m\u001b[0;34m(\u001b[0m\u001b[0my\u001b[0m\u001b[0;34m[\u001b[0m\u001b[0mj\u001b[0m\u001b[0;34m]\u001b[0m\u001b[0;34m!=\u001b[0m\u001b[0my\u001b[0m\u001b[0;34m[\u001b[0m\u001b[0mj\u001b[0m\u001b[0;34m+\u001b[0m\u001b[0;36m1\u001b[0m\u001b[0;34m]\u001b[0m\u001b[0;34m)\u001b[0m\u001b[0;34m:\u001b[0m\u001b[0;34m\u001b[0m\u001b[0;34m\u001b[0m\u001b[0m\n\u001b[0m\u001b[1;32m     15\u001b[0m                     \u001b[0mzeta\u001b[0m\u001b[0;34m.\u001b[0m\u001b[0mappend\u001b[0m\u001b[0;34m(\u001b[0m\u001b[0my\u001b[0m\u001b[0;34m)\u001b[0m\u001b[0;34m\u001b[0m\u001b[0;34m\u001b[0m\u001b[0m\n\u001b[1;32m     16\u001b[0m \u001b[0;32mif\u001b[0m \u001b[0m__name__\u001b[0m \u001b[0;34m==\u001b[0m \u001b[0;34m'__main__'\u001b[0m\u001b[0;34m:\u001b[0m\u001b[0;34m\u001b[0m\u001b[0;34m\u001b[0m\u001b[0m\n",
            "\u001b[0;31mIndexError\u001b[0m: list index out of range"
          ]
        }
      ],
      "source": [
        "def h_index(n, citations):\n",
        "    zeta=list()\n",
        "    alpha=0\n",
        "    h_index_list=list()\n",
        "    cre=list()\n",
        "    y=list()\n",
        "    temp=list(citations)\n",
        "    for i in range(0,len(temp)):\n",
        "        cre.append(temp[i])\n",
        "        for j in range(0,len(cre)):\n",
        "            x=cre[j]//(j+1)\n",
        "            if(x>=1):\n",
        "                y.append(x)\n",
        "                if(y[j]!=y[j+1]):\n",
        "                    zeta.append(y)\n",
        "if __name__ == '__main__':\n",
        "  t = int(input())\n",
        "\n",
        "  for test_case in range(1, t + 1):\n",
        "    n = int(input())                      # The number of papers\n",
        "    citations = map(int, input().split()) # The number of citations for each paper\n",
        "    h_index_scores = h_index(n, citations)\n",
        "    print(\"Case #\" + str(test_case) + \": \" + ' '.join(map(str, h_index_scores)))\n"
      ]
    },
    {
      "cell_type": "code",
      "execution_count": null,
      "metadata": {
        "id": "WuPOk7JLRozw"
      },
      "outputs": [],
      "source": [
        "#H_index"
      ]
    },
    {
      "cell_type": "code",
      "execution_count": null,
      "metadata": {
        "colab": {
          "base_uri": "https://localhost:8080/"
        },
        "id": "YCf2pZ31AuFA",
        "outputId": "af2be278-caca-40e3-80e0-32769a202ab2"
      },
      "outputs": [
        {
          "name": "stdout",
          "output_type": "stream",
          "text": [
            "[15, 3, 3, 2, 2, 1]\n",
            "3\n"
          ]
        }
      ],
      "source": [
        "zeta=0\n",
        "temp=[1,3,3,2,2,15]\n",
        "temp_citi=sorted(temp)\n",
        "temp_citi.reverse()\n",
        "print(temp_citi)\n",
        "for i in range(0,len(temp_citi)):\n",
        "    if(((temp_citi[i])/(i+1))>=1):\n",
        "        zeta+=1\n",
        "    else:\n",
        "        zeta+=0\n",
        "print(zeta)"
      ]
    },
    {
      "cell_type": "code",
      "execution_count": null,
      "metadata": {
        "id": "3h5FA1k4KrKh"
      },
      "outputs": [],
      "source": [
        "def diagonalDifference(arr):\n",
        "    arr_2d=list(arr)\n",
        "\n",
        "if __name__ == '__main__':\n",
        "\n",
        "    n = int(input().strip())\n",
        "\n",
        "    arr = []\n",
        "\n",
        "    for _ in range(n):\n",
        "        arr.append(list(map(int, input().rstrip().split())))\n",
        "\n",
        "    result = diagonalDifference(arr)\n",
        "    print(result)\n"
      ]
    },
    {
      "cell_type": "code",
      "execution_count": null,
      "metadata": {
        "colab": {
          "base_uri": "https://localhost:8080/"
        },
        "id": "wfUVqSV8BA3L",
        "outputId": "96c83694-f2b2-482b-8867-e98b191584c7"
      },
      "outputs": [
        {
          "name": "stdout",
          "output_type": "stream",
          "text": [
            "True\n"
          ]
        }
      ],
      "source": [
        "x=[1,2,3,4,5]\n",
        "y=1\n",
        "print(y in x)"
      ]
    },
    {
      "cell_type": "code",
      "execution_count": null,
      "metadata": {
        "colab": {
          "base_uri": "https://localhost:8080/",
          "height": 408
        },
        "id": "u9wlfxIXWxug",
        "outputId": "20968bc4-bdf1-48fa-ffbb-cbf1091c4d96"
      },
      "outputs": [
        {
          "name": "stdout",
          "output_type": "stream",
          "text": [
            "1.CARS\n",
            "2.FOOD\n",
            "3.MOBILES\n",
            "\n",
            "Enter from the above list(1,2,3):2\n"
          ]
        },
        {
          "ename": "NameError",
          "evalue": "ignored",
          "output_type": "error",
          "traceback": [
            "\u001b[0;31m---------------------------------------------------------------------------\u001b[0m",
            "\u001b[0;31mNameError\u001b[0m                                 Traceback (most recent call last)",
            "\u001b[0;32m<ipython-input-3-3a76b6e3ee65>\u001b[0m in \u001b[0;36m<module>\u001b[0;34m()\u001b[0m\n\u001b[1;32m     61\u001b[0m             \u001b[0;32mreturn\u001b[0m \u001b[0;32mNone\u001b[0m\u001b[0;34m\u001b[0m\u001b[0;34m\u001b[0m\u001b[0m\n\u001b[1;32m     62\u001b[0m \u001b[0;34m\u001b[0m\u001b[0m\n\u001b[0;32m---> 63\u001b[0;31m \u001b[0mgame\u001b[0m\u001b[0;34m(\u001b[0m\u001b[0;34m)\u001b[0m\u001b[0;34m\u001b[0m\u001b[0;34m\u001b[0m\u001b[0m\n\u001b[0m",
            "\u001b[0;32m<ipython-input-3-3a76b6e3ee65>\u001b[0m in \u001b[0;36mgame\u001b[0;34m()\u001b[0m\n\u001b[1;32m     39\u001b[0m     \u001b[0;32mif\u001b[0m \u001b[0;34m(\u001b[0m\u001b[0mcharge\u001b[0m\u001b[0;34m!=\u001b[0m\u001b[0;36m0\u001b[0m\u001b[0;34m)\u001b[0m\u001b[0;34m:\u001b[0m\u001b[0;34m\u001b[0m\u001b[0;34m\u001b[0m\u001b[0m\n\u001b[1;32m     40\u001b[0m         \u001b[0munknown\u001b[0m\u001b[0;34m=\u001b[0m\u001b[0mlist\u001b[0m\u001b[0;34m(\u001b[0m\u001b[0;34m)\u001b[0m\u001b[0;34m\u001b[0m\u001b[0;34m\u001b[0m\u001b[0m\n\u001b[0;32m---> 41\u001b[0;31m         \u001b[0;32mfor\u001b[0m \u001b[0mi\u001b[0m \u001b[0;32min\u001b[0m \u001b[0mrange\u001b[0m\u001b[0;34m(\u001b[0m\u001b[0mlen\u001b[0m\u001b[0;34m(\u001b[0m\u001b[0mchoice\u001b[0m\u001b[0;34m)\u001b[0m\u001b[0;34m)\u001b[0m\u001b[0;34m:\u001b[0m\u001b[0;34m\u001b[0m\u001b[0;34m\u001b[0m\u001b[0m\n\u001b[0m\u001b[1;32m     42\u001b[0m             \u001b[0munknown\u001b[0m\u001b[0;34m.\u001b[0m\u001b[0mappend\u001b[0m\u001b[0;34m(\u001b[0m\u001b[0;34m\" _ \"\u001b[0m\u001b[0;34m)\u001b[0m\u001b[0;34m\u001b[0m\u001b[0;34m\u001b[0m\u001b[0m\n\u001b[1;32m     43\u001b[0m         \u001b[0mgame_input\u001b[0m\u001b[0;34m=\u001b[0m\u001b[0mlist\u001b[0m\u001b[0;34m(\u001b[0m\u001b[0minput\u001b[0m\u001b[0;34m(\u001b[0m\u001b[0;34m\"guess the value:\"\u001b[0m\u001b[0;34m)\u001b[0m\u001b[0;34m)\u001b[0m\u001b[0;34m\u001b[0m\u001b[0;34m\u001b[0m\u001b[0m\n",
            "\u001b[0;31mNameError\u001b[0m: name 'choice' is not defined"
          ]
        }
      ],
      "source": [
        "import random as rd\n",
        "def dectionary():\n",
        "    l1=[\"BMW\",\"Nissan\",\"Audi\",\"Farrari\",\"Lamborgine\",\"Volvo\"]\n",
        "    l2=[\"Pizza\",\"Burger\",\"Sandwitch\",\"Noodles\",\"Sizzler\"]\n",
        "    l3=[\"Apple\",\"Oppo\",\"Vivo\",\"Mi\",\"Samsung\",\"OnePlus\"]\n",
        "    DEC={\"Cars\":l1,\"Food\":l2,\"Mobile\":l3}\n",
        "    return DEC\n",
        "def play_again():\n",
        "    try:\n",
        "        again=int(input())\n",
        "        return again\n",
        "    except:\n",
        "        return play_again()\n",
        "def select():\n",
        "    print(\"1.CARS\\n2.FOOD\\n3.MOBILES\\n\")\n",
        "    lst_select=int(input(\"Enter from the above list(1,2,3):\"))\n",
        "    return lst_select\n",
        "def options():\n",
        "    if(select()==1):\n",
        "        choice=dectionary()[\"Cars\"]\n",
        "        lis=list(rd.choice(choice))\n",
        "        return lis\n",
        "        game()\n",
        "\n",
        "    elif(select()==2):\n",
        "        choice=dectionary()[\"Food\"]\n",
        "        lis=list(rd.choice(choice))\n",
        "        return lis\n",
        "        game()\n",
        "    elif(select()==3):\n",
        "        choice=dectionary()[\"Mobile\"]\n",
        "        lis=list(rd.choice(choice))\n",
        "        return lis\n",
        "        game()\n",
        "    else:\n",
        "        print(\"please enter a valid choice!!\")\n",
        "    return options()\n",
        "def game():\n",
        "    lis=options()\n",
        "    charge=10\n",
        "    if (charge!=0):\n",
        "        unknown=list()\n",
        "        for i in range(len(choice)):\n",
        "            unknown.append(\" _ \")\n",
        "        game_input=list(input(\"guess the value:\"))\n",
        "        if(game_input in lis):\n",
        "            print(\"correct {} in {}\".format(game_input,(game_input in lis)))\n",
        "            copy=lis\n",
        "            for i in range(0,len(game_input)):\n",
        "                if(game_input[i] in copy):\n",
        "                    lis.remove(game_input[i])\n",
        "                    print(\"these are the correct word found {}\".format(game_input[i]))\n",
        "                    unknown[i]=game_input[i]\n",
        "        else:\n",
        "            charge-=1\n",
        "    else:\n",
        "        print(\"Game Over!!!\")\n",
        "        print(\"You have scored {} out of {}\".format(len(lis),len(copy)))\n",
        "        print(\"wanna play again?(yes/no)\\nEnter in 1 if yes and 2 if no\")\n",
        "        if (paly_again()==1):\n",
        "            return game()\n",
        "        else:\n",
        "            return None\n",
        "\n",
        "game()"
      ]
    },
    {
      "cell_type": "code",
      "execution_count": null,
      "metadata": {
        "id": "YaSKMhTgNzOj"
      },
      "outputs": [],
      "source": [
        ""
      ]
    },
    {
      "cell_type": "code",
      "execution_count": null,
      "metadata": {
        "colab": {
          "base_uri": "https://localhost:8080/"
        },
        "id": "lvZfgdGTPMXe",
        "outputId": "e8e7a52c-8f4f-40c5-807e-785f3f493074"
      },
      "outputs": [
        {
          "name": "stdout",
          "output_type": "stream",
          "text": [
            "abdjskdjlkjfdkfdljfldfdljdfjldjldfjd\n",
            "['a', 'b', 'd', 'j', 's', 'k', 'd', 'j', 'l', 'k', 'j', 'f', 'd', 'k', 'f', 'd', 'l', 'j', 'f', 'l', 'd', 'f', 'd', 'l', 'j', 'd', 'f', 'j', 'l', 'd', 'j', 'l', 'd', 'f', 'j', 'd']\n",
            "['c', 'e']\n"
          ]
        }
      ],
      "source": [
        "\n",
        "choice=[\"a\",\"b\",\"c\",\"d\",\"e\"]\n",
        "game_input=list(input())\n",
        "print(game_input)\n",
        "copy=choice\n",
        "for i in range(0,len(game_input)):\n",
        "    if (game_input[i] in copy):\n",
        "        choice.remove(game_input[i])\n",
        "print(choice"
      ]
    },
    {
      "cell_type": "code",
      "execution_count": null,
      "metadata": {
        "colab": {
          "base_uri": "https://localhost:8080/",
          "height": 35
        },
        "id": "br2mO7GiPPD9",
        "outputId": "8951497e-7dea-4abc-e3c7-fb0ebd675af2"
      },
      "outputs": [
        {
          "data": {
            "application/vnd.google.colaboratory.intrinsic+json": {
              "type": "string"
            },
            "text/plain": [
              "'sk'"
            ]
          },
          "execution_count": 12,
          "metadata": {},
          "output_type": "execute_result"
        }
      ],
      "source": [
        "x=\"sslkadjkasl\"\n",
        "x.find(\"z\")#(parameters)-->(\"value\",start,end)\n"
      ]
    },
    {
      "cell_type": "code",
      "execution_count": null,
      "metadata": {
        "colab": {
          "base_uri": "https://localhost:8080/"
        },
        "id": "QivRZu2ZzW12",
        "outputId": "9065a187-28d3-4bb7-93b2-5ced790bfd13"
      },
      "outputs": [
        {
          "name": "stdout",
          "output_type": "stream",
          "text": [
            "4\n"
          ]
        }
      ],
      "source": [
        "x=4\n",
        "print(int(x))"
      ]
    },
    {
      "cell_type": "code",
      "execution_count": null,
      "metadata": {
        "colab": {
          "base_uri": "https://localhost:8080/"
        },
        "id": "NwdME7gG04PJ",
        "outputId": "01f1f3e2-881a-4ca5-d5b4-34ff6b6b4cee"
      },
      "outputs": [
        {
          "name": "stdout",
          "output_type": "stream",
          "text": [
            "{'num': 4, 'jd': 'name', 'kasd': 'add'}\n",
            "{4: 'name', 5: 'same'}\n"
          ]
        }
      ],
      "source": [
        "xar1=dict(num=4,jd=\"name\",kasd=\"add\")\n",
        "print(xar1)\n",
        "xar2={4:\"name\",5:\"same\"}\n",
        "print(xar2)"
      ]
    },
    {
      "cell_type": "code",
      "execution_count": null,
      "metadata": {
        "colab": {
          "base_uri": "https://localhost:8080/"
        },
        "id": "dnte4Gms10WK",
        "outputId": "b3b8683b-6835-478f-b4e5-d88d2b220c5b"
      },
      "outputs": [
        {
          "name": "stdout",
          "output_type": "stream",
          "text": [
            "5\n",
            "4 5 5 4 4\n",
            "2\n"
          ]
        }
      ],
      "source": [
        "def birthdayCakeCandles(candles):\n",
        "    n=len(candles)\n",
        "    a=max(candles)\n",
        "    c=0\n",
        "    while(n>=0):\n",
        "        if(candles[n-1]==a):\n",
        "            c+=1\n",
        "        n-=1\n",
        "    return print(c)    \n",
        "\n",
        "if __name__ == '__main__':\n",
        "\n",
        "    candles_count = int(input().strip())\n",
        "\n",
        "    candles = list(map(int, input().rstrip().split()))\n",
        "\n",
        "    result = birthdayCakeCandles(candles)\n",
        "     "
      ]
    },
    {
      "cell_type": "code",
      "execution_count": null,
      "metadata": {
        "id": "WuP_41jY4IWt"
      },
      "outputs": [],
      "source": [
        "def second_lowest(formed_list):\n",
        "    \n",
        "    for i in range():\n",
        "    return print(l1)\n",
        "\n",
        "list_formed=[]\n",
        "for _ in range(int(input())):\n",
        "    name = input()\n",
        "    score = float(input())\n",
        "    x=int(score)\n",
        "    list_formed.append(x)\n",
        "print(list_formed)\n",
        "second_lowest(list_formed)"
      ]
    },
    {
      "cell_type": "code",
      "execution_count": null,
      "metadata": {
        "id": "Vx6CjwawcfnZ"
      },
      "outputs": [],
      "source": [
        "x=[1,2,3,4,55,5]\n",
        "y=[3,4,55,5]"
      ]
    },
    {
      "cell_type": "code",
      "execution_count": null,
      "metadata": {
        "colab": {
          "base_uri": "https://localhost:8080/"
        },
        "id": "lWtYIUYu3FWr",
        "outputId": "45921fd4-9578-4d57-9821-192464981983"
      },
      "outputs": [
        {
          "data": {
            "text/plain": [
              "False"
            ]
          },
          "execution_count": 16,
          "metadata": {},
          "output_type": "execute_result"
        }
      ],
      "source": [
        "44 in [22,2,2,2,2]"
      ]
    },
    {
      "cell_type": "code",
      "execution_count": null,
      "metadata": {
        "colab": {
          "base_uri": "https://localhost:8080/"
        },
        "id": "jQLUptTg3JMF",
        "outputId": "266e22c8-2884-4068-f8c6-405950b61f99"
      },
      "outputs": [
        {
          "name": "stdout",
          "output_type": "stream",
          "text": [
            "False\n",
            "True\n"
          ]
        }
      ],
      "source": [
        "a=[2,3,3,3,3,3]\n",
        "b=3\n",
        "print(b==a)\n",
        "print(b in a)"
      ]
    },
    {
      "cell_type": "code",
      "execution_count": null,
      "metadata": {
        "colab": {
          "base_uri": "https://localhost:8080/"
        },
        "id": "M-pcwIBW6HVo",
        "outputId": "55124412-dd85-4e64-9625-947a6c1555a9"
      },
      "outputs": [
        {
          "data": {
            "text/plain": [
              "['h', 'e', 'l', 'l', 'o']"
            ]
          },
          "execution_count": 1,
          "metadata": {},
          "output_type": "execute_result"
        }
      ],
      "source": [
        ""
      ]
    },
    {
      "cell_type": "code",
      "execution_count": null,
      "metadata": {
        "id": "0DnPHStLeCI_"
      },
      "outputs": [],
      "source": [
        "from google.colab import drive\n",
        "drive.mount('/content/drive')"
      ]
    },
    {
      "cell_type": "markdown",
      "metadata": {
        "id": "yyDA4w15YJjM"
      },
      "source": [
        "akshat problem \n",
        "(calculating the freq of a string using dict)\n",
        "\n"
      ]
    },
    {
      "cell_type": "code",
      "execution_count": null,
      "metadata": {
        "colab": {
          "base_uri": "https://localhost:8080/"
        },
        "id": "wdbNK7VHYbys",
        "outputId": "832e99a2-26ca-4bb6-a417-86bcb1d12fea"
      },
      "outputs": [
        {
          "name": "stdout",
          "output_type": "stream",
          "text": [
            "['e', 'h', 'l', 'o']\n"
          ]
        }
      ],
      "source": [
        "string=\"hello\"\n",
        "list_of_string=list(string)\n",
        "a=len(list_of_string)\n",
        "set_string=set(list_of_string)\n",
        "new_list=list(set_string)\n",
        "b=len(new_list)\n",
        "dict={}\n",
        "for i in range(b):\n",
        "    count=0\n",
        "    for j in range(a):\n",
        "        if new_list[i]==list_of_string[j]:\n",
        "            count+=1\n",
        "    dict.update({new_list[i]:count})\n",
        "print(sorted(dict))"
      ]
    },
    {
      "cell_type": "code",
      "execution_count": null,
      "metadata": {
        "colab": {
          "base_uri": "https://localhost:8080/",
          "height": 200
        },
        "id": "Z0YMHI8aaKYM",
        "outputId": "55e75fc1-cb60-4ee6-d2f4-a22936bf6ed8"
      },
      "outputs": [
        {
          "name": "stderr",
          "output_type": "stream",
          "text": [
            "usage: ipykernel_launcher.py [-h] --file IMGFILE [--scale SCALE]\n",
            "                             [--out OUTFILE] [--cols COLS] [--morelevels]\n",
            "ipykernel_launcher.py: error: the following arguments are required: --file\n"
          ]
        },
        {
          "ename": "SystemExit",
          "evalue": "ignored",
          "output_type": "error",
          "traceback": [
            "An exception has occurred, use %tb to see the full traceback.\n",
            "\u001b[0;31mSystemExit\u001b[0m\u001b[0;31m:\u001b[0m 2\n"
          ]
        },
        {
          "name": "stderr",
          "output_type": "stream",
          "text": [
            "/usr/local/lib/python3.7/dist-packages/IPython/core/interactiveshell.py:2890: UserWarning: To exit: use 'exit', 'quit', or Ctrl-D.\n",
            "  warn(\"To exit: use 'exit', 'quit', or Ctrl-D.\", stacklevel=1)\n"
          ]
        }
      ],
      "source": [
        "# Python code to convert an image to ASCII image.\n",
        "import sys, random, argparse\n",
        "import numpy as np\n",
        "import math\n",
        "\n",
        "from PIL import Image\n",
        "\n",
        "# gray scale level values from:\n",
        "# http://paulbourke.net/dataformats/asciiart/\n",
        "\n",
        "# 70 levels of gray\n",
        "gscale1 = \"$@B%8&WM#*oahkbdpqwmZO0QLCJUYXzcvunxrjft/\\|()1{}[]?-_+~<>i!lI;:,\\\"^`'. \"\n",
        "\n",
        "# 10 levels of gray\n",
        "gscale2 = '@%#*+=-:. '\n",
        "\n",
        "def getAverageL(image):\n",
        "\n",
        "\t\"\"\"\n",
        "\tGiven PIL Image, return average value of grayscale value\n",
        "\t\"\"\"\n",
        "\t# get image as numpy array\n",
        "\tim = np.array(image)\n",
        "\n",
        "\t# get shape\n",
        "\tw,h = im.shape\n",
        "\n",
        "\t# get average\n",
        "\treturn np.average(im.reshape(w*h))\n",
        "\n",
        "def covertImageToAscii(fileName, cols, scale, moreLevels):\n",
        "\t\"\"\"\n",
        "\tGiven Image and dims (rows, cols) returns an m*n list of Images\n",
        "\t\"\"\"\n",
        "\t# declare globals\n",
        "\tglobal gscale1, gscale2\n",
        "\n",
        "\t# open image and convert to grayscale\n",
        "\timage = Image.open(fileName).convert('L')\n",
        "\n",
        "\t# store dimensions\n",
        "\tW, H = image.size[0], image.size[1]\n",
        "\tprint(\"input image dims: %d x %d\" % (W, H))\n",
        "\n",
        "\t# compute width of tile\n",
        "\tw = W/cols\n",
        "\n",
        "\t# compute tile height based on aspect ratio and scale\n",
        "\th = w/scale\n",
        "\n",
        "\t# compute number of rows\n",
        "\trows = int(H/h)\n",
        "\t\n",
        "\tprint(\"cols: %d, rows: %d\" % (cols, rows))\n",
        "\tprint(\"tile dims: %d x %d\" % (w, h))\n",
        "\n",
        "\t# check if image size is too small\n",
        "\tif cols > W or rows > H:\n",
        "\t\tprint(\"Image too small for specified cols!\")\n",
        "\t\texit(0)\n",
        "\n",
        "\t# ascii image is a list of character strings\n",
        "\taimg = []\n",
        "\t# generate list of dimensions\n",
        "\tfor j in range(rows):\n",
        "\t\ty1 = int(j*h)\n",
        "\t\ty2 = int((j+1)*h)\n",
        "\n",
        "\t\t# correct last tile\n",
        "\t\tif j == rows-1:\n",
        "\t\t\ty2 = H\n",
        "\n",
        "\t\t# append an empty string\n",
        "\t\taimg.append(\"\")\n",
        "\n",
        "\t\tfor i in range(cols):\n",
        "\n",
        "\t\t\t# crop image to tile\n",
        "\t\t\tx1 = int(i*w)\n",
        "\t\t\tx2 = int((i+1)*w)\n",
        "\n",
        "\t\t\t# correct last tile\n",
        "\t\t\tif i == cols-1:\n",
        "\t\t\t\tx2 = W\n",
        "\n",
        "\t\t\t# crop image to extract tile\n",
        "\t\t\timg = image.crop((x1, y1, x2, y2))\n",
        "\n",
        "\t\t\t# get average luminance\n",
        "\t\t\tavg = int(getAverageL(img))\n",
        "\n",
        "\t\t\t# look up ascii char\n",
        "\t\t\tif moreLevels:\n",
        "\t\t\t\tgsval = gscale1[int((avg*69)/255)]\n",
        "\t\t\telse:\n",
        "\t\t\t\tgsval = gscale2[int((avg*9)/255)]\n",
        "\n",
        "\t\t\t# append ascii char to string\n",
        "\t\t\taimg[j] += gsval\n",
        "\t\n",
        "\t# return txt image\n",
        "\treturn aimg\n",
        "\n",
        "# main() function\n",
        "def main():\n",
        "\t# create parser\n",
        "\tdescStr = \"This program converts an image into ASCII art.\"\n",
        "\tparser = argparse.ArgumentParser(description=descStr)\n",
        "\t# add expected arguments\n",
        "\tparser.add_argument('', dest='imgFile', required=True)\n",
        "\tparser.add_argument('--scale', dest='scale', required=False)\n",
        "\tparser.add_argument('--out', dest='outFile', required=False)\n",
        "\tparser.add_argument('--cols', dest='cols', required=False)\n",
        "\tparser.add_argument('--morelevels',dest='moreLevels',action='store_true')\n",
        "\n",
        "\t# parse args\n",
        "\targs = parser.parse_args()\n",
        "\n",
        "\timgFile = args.imgFile\n",
        "\n",
        "\t# set output file\n",
        "\toutFile = 'out.txt'\n",
        "\tif args.outFile:\n",
        "\t\toutFile = args.outFile\n",
        "\n",
        "\t# set scale default as 0.43 which suits\n",
        "\t# a Courier font\n",
        "\tscale = 0.43\n",
        "\tif args.scale:\n",
        "\t\tscale = float(args.scale)\n",
        "\n",
        "\t# set cols\n",
        "\tcols = 80\n",
        "\tif args.cols:\n",
        "\t\tcols = int(args.cols)\n",
        "\n",
        "\tprint('generating ASCII art...')\n",
        "\t# convert image to ascii txt\n",
        "\taimg = covertImageToAscii(imgFile, cols, scale, args.moreLevels)\n",
        "\n",
        "\t# open file\n",
        "\tf = open(outFile, 'w')\n",
        "\n",
        "\t# write to file\n",
        "\tfor row in aimg:\n",
        "\t\tf.write(row + '\\n')\n",
        "\n",
        "\t# cleanup\n",
        "\tf.close()\n",
        "\tprint(\"ASCII art written to %s\" % outFile)\n",
        "\n",
        "# call main\n",
        "if __name__ == '__main__':\n",
        "\tmain()\n"
      ]
    },
    {
      "cell_type": "code",
      "execution_count": null,
      "metadata": {
        "colab": {
          "base_uri": "https://localhost:8080/"
        },
        "id": "6BghwiIKbZJx",
        "outputId": "f6ca2d59-a70f-4181-cb4e-532e1245261f"
      },
      "outputs": [
        {
          "name": "stdout",
          "output_type": "stream",
          "text": [
            "5 6 7 8\n",
            "6\n"
          ]
        }
      ],
      "source": [
        "candles = list(map(int, input().rstrip().split()))\n",
        "print(candles[1])"
      ]
    },
    {
      "cell_type": "code",
      "execution_count": null,
      "metadata": {
        "colab": {
          "base_uri": "https://localhost:8080/"
        },
        "id": "2qUz-wT-9JOH",
        "outputId": "937cf828-3bb7-474f-d5d2-41d70ff6f6ab"
      },
      "outputs": [
        {
          "name": "stdout",
          "output_type": "stream",
          "text": [
            "23\n",
            "23\n"
          ]
        }
      ],
      "source": [
        "a=7\n",
        "b=3\n",
        "print(a|16)\n",
        "print(7+16)"
      ]
    },
    {
      "cell_type": "code",
      "execution_count": null,
      "metadata": {
        "id": "fm8Rd40eBv-O"
      },
      "outputs": [],
      "source": [
        "#coderror\n",
        "no_of_cases=int(input())\n",
        "i_g= list(map(int, input().rstrip().split()))\n",
        "a=i_g[0]\n",
        "b=i_g[1]\n",
        "c=0\n",
        "for i in range(no_of_cases):\n",
        "    while(a!=b):\n",
        "        if(b+1==a or a+1==b):\n",
        "            print(1)\n",
        "        continue\n",
        "        if(b<a):\n",
        "            c+=1\n",
        "            x=a-b-1\n",
        "            if(a!=b and a>b):\n",
        "                while(a!=b and a>b):\n",
        "                    b+=1\n",
        "                    c+=1\n",
        "            if(a!=b and a<b):\n",
        "                while(a<b):\n",
        "                    a+=1\n",
        "                    c+=1\n",
        "            if(a==b):\n",
        "                print(c)\n",
        "            print(c)"
      ]
    },
    {
      "cell_type": "code",
      "execution_count": null,
      "metadata": {
        "colab": {
          "base_uri": "https://localhost:8080/",
          "height": 235
        },
        "id": "lxokfVvPNP9y",
        "outputId": "0adb80b8-b7e8-471a-8ed8-5dd6b0f19096"
      },
      "outputs": [
        {
          "ename": "IndexError",
          "evalue": "ignored",
          "output_type": "error",
          "traceback": [
            "\u001b[0;31m---------------------------------------------------------------------------\u001b[0m",
            "\u001b[0;31mIndexError\u001b[0m                                Traceback (most recent call last)",
            "\u001b[0;32m<ipython-input-8-081afb908335>\u001b[0m in \u001b[0;36m<module>\u001b[0;34m()\u001b[0m\n\u001b[1;32m      2\u001b[0m \u001b[0mlen_arr\u001b[0m\u001b[0;34m=\u001b[0m\u001b[0mlen\u001b[0m\u001b[0;34m(\u001b[0m\u001b[0marray\u001b[0m\u001b[0;34m)\u001b[0m\u001b[0;34m\u001b[0m\u001b[0;34m\u001b[0m\u001b[0m\n\u001b[1;32m      3\u001b[0m \u001b[0;32mfor\u001b[0m \u001b[0mi\u001b[0m \u001b[0;32min\u001b[0m \u001b[0mrange\u001b[0m\u001b[0;34m(\u001b[0m\u001b[0mlen_arr\u001b[0m\u001b[0;34m)\u001b[0m\u001b[0;34m:\u001b[0m\u001b[0;34m\u001b[0m\u001b[0;34m\u001b[0m\u001b[0m\n\u001b[0;32m----> 4\u001b[0;31m    \u001b[0maddr\u001b[0m\u001b[0;34m=\u001b[0m\u001b[0;34m(\u001b[0m\u001b[0marray\u001b[0m\u001b[0;34m[\u001b[0m\u001b[0mi\u001b[0m\u001b[0;34m+\u001b[0m\u001b[0;36m1\u001b[0m\u001b[0;34m]\u001b[0m\u001b[0;34m[\u001b[0m\u001b[0mi\u001b[0m\u001b[0;34m+\u001b[0m\u001b[0;36m1\u001b[0m\u001b[0;34m]\u001b[0m\u001b[0;34m+\u001b[0m\u001b[0marray\u001b[0m\u001b[0;34m[\u001b[0m\u001b[0mi\u001b[0m\u001b[0;34m+\u001b[0m\u001b[0;36m2\u001b[0m\u001b[0;34m]\u001b[0m\u001b[0;34m[\u001b[0m\u001b[0mi\u001b[0m\u001b[0;34m+\u001b[0m\u001b[0;36m2\u001b[0m\u001b[0;34m]\u001b[0m\u001b[0;34m)\u001b[0m\u001b[0;34m\u001b[0m\u001b[0;34m\u001b[0m\u001b[0m\n\u001b[0m\u001b[1;32m      5\u001b[0m    \u001b[0maddl\u001b[0m\u001b[0;34m=\u001b[0m\u001b[0;34m(\u001b[0m\u001b[0marray\u001b[0m\u001b[0;34m[\u001b[0m\u001b[0;34m-\u001b[0m\u001b[0mi\u001b[0m\u001b[0;34m-\u001b[0m\u001b[0;36m1\u001b[0m\u001b[0;34m]\u001b[0m\u001b[0;34m[\u001b[0m\u001b[0;34m-\u001b[0m\u001b[0mi\u001b[0m\u001b[0;34m-\u001b[0m\u001b[0;36m1\u001b[0m\u001b[0;34m]\u001b[0m\u001b[0;34m+\u001b[0m\u001b[0marray\u001b[0m\u001b[0;34m[\u001b[0m\u001b[0;34m-\u001b[0m\u001b[0mi\u001b[0m\u001b[0;34m-\u001b[0m\u001b[0;36m2\u001b[0m\u001b[0;34m]\u001b[0m\u001b[0;34m[\u001b[0m\u001b[0mi\u001b[0m\u001b[0;34m-\u001b[0m\u001b[0;36m2\u001b[0m\u001b[0;34m]\u001b[0m\u001b[0;34m)\u001b[0m\u001b[0;34m\u001b[0m\u001b[0;34m\u001b[0m\u001b[0m\n\u001b[1;32m      6\u001b[0m \u001b[0mvalue\u001b[0m\u001b[0;34m=\u001b[0m\u001b[0mabs\u001b[0m\u001b[0;34m(\u001b[0m\u001b[0maddr\u001b[0m\u001b[0;34m-\u001b[0m\u001b[0maddl\u001b[0m\u001b[0;34m)\u001b[0m\u001b[0;34m\u001b[0m\u001b[0;34m\u001b[0m\u001b[0m\n",
            "\u001b[0;31mIndexError\u001b[0m: list index out of range"
          ]
        }
      ],
      "source": [
        ""
      ]
    },
    {
      "cell_type": "code",
      "execution_count": null,
      "metadata": {
        "id": "i7Yb83a_Nkdt"
      },
      "outputs": [],
      "source": [
        "n = int(input().strip())\n",
        "arr = []\n",
        "\n",
        "for _ in range(n):\n",
        "    arr.append(list(map(int, input().rstrip().split())))\n",
        "\n",
        "def diagonalDifference(arr):\n",
        "    arr_2d=list(arr)\n",
        "    return arr_2d\n",
        "\n",
        "def diagonalDifference2(arr_2d):\n",
        "    array=len(arr_2d)\n",
        "    for\n",
        "\n",
        "    while(i<array)\n",
        "            addl=arr_2d [ i ] [ i ]+arr_2d [ i+1 ] [ i+1 ]\n",
        "\n",
        "            addr=arr_2d[ -1-i  ][  -1-i ]+arr_2d[ -1-i ] [ -1-i ]\n",
        "    value=abs(addl-addr)\n",
        "    return value\n",
        "\n",
        "diagonalDifference2(diagonalDifference(arr))\n"
      ]
    },
    {
      "cell_type": "code",
      "execution_count": null,
      "metadata": {
        "colab": {
          "base_uri": "https://localhost:8080/",
          "height": 260
        },
        "id": "KosYZNrrA4a-",
        "outputId": "604e209b-7fd0-452a-d24c-bd2e199bed95"
      },
      "outputs": [
        {
          "name": "stdout",
          "output_type": "stream",
          "text": [
            "14:54:54PM\n"
          ]
        },
        {
          "ename": "ValueError",
          "evalue": "ignored",
          "output_type": "error",
          "traceback": [
            "\u001b[0;31m---------------------------------------------------------------------------\u001b[0m",
            "\u001b[0;31mValueError\u001b[0m                                Traceback (most recent call last)",
            "\u001b[0;32m<ipython-input-4-6179df504e2b>\u001b[0m in \u001b[0;36m<module>\u001b[0;34m()\u001b[0m\n\u001b[1;32m      8\u001b[0m     \u001b[0ms1\u001b[0m\u001b[0;34m.\u001b[0m\u001b[0mappend\u001b[0m\u001b[0;34m(\u001b[0m\u001b[0ms2\u001b[0m\u001b[0;34m[\u001b[0m\u001b[0;34m-\u001b[0m\u001b[0;36m3\u001b[0m\u001b[0;34m]\u001b[0m\u001b[0;34m)\u001b[0m\u001b[0;34m\u001b[0m\u001b[0;34m\u001b[0m\u001b[0m\n\u001b[1;32m      9\u001b[0m \u001b[0;32melse\u001b[0m\u001b[0;34m:\u001b[0m\u001b[0;34m\u001b[0m\u001b[0;34m\u001b[0m\u001b[0m\n\u001b[0;32m---> 10\u001b[0;31m     \u001b[0ms1\u001b[0m\u001b[0;34m.\u001b[0m\u001b[0mremove\u001b[0m\u001b[0;34m(\u001b[0m\u001b[0;34m[\u001b[0m\u001b[0;34m\"A\"\u001b[0m\u001b[0;34m,\u001b[0m\u001b[0;34m\"M\"\u001b[0m\u001b[0;34m,\u001b[0m\u001b[0;34m\"P\"\u001b[0m\u001b[0;34m]\u001b[0m \u001b[0;32min\u001b[0m \u001b[0ms2\u001b[0m\u001b[0;34m)\u001b[0m\u001b[0;34m\u001b[0m\u001b[0;34m\u001b[0m\u001b[0m\n\u001b[0m\u001b[1;32m     11\u001b[0m \u001b[0ms1\u001b[0m\u001b[0;34m=\u001b[0m\u001b[0;34m\"\"\u001b[0m\u001b[0;34m.\u001b[0m\u001b[0mjoin\u001b[0m\u001b[0;34m(\u001b[0m\u001b[0ms1\u001b[0m\u001b[0;34m)\u001b[0m\u001b[0;34m\u001b[0m\u001b[0;34m\u001b[0m\u001b[0m\n\u001b[1;32m     12\u001b[0m \u001b[0mprint\u001b[0m\u001b[0;34m(\u001b[0m\u001b[0ms1\u001b[0m\u001b[0;34m)\u001b[0m\u001b[0;34m\u001b[0m\u001b[0;34m\u001b[0m\u001b[0m\n",
            "\u001b[0;31mValueError\u001b[0m: list.remove(x): x not in list"
          ]
        }
      ],
      "source": [
        "s=input()\n",
        "s1=s.split(\":\")\n",
        "s2=list(s)\n",
        "if([\"p\",\"P\"] in s2):\n",
        "    s1[0]=int(s1[0])+int(s2[0])+int(s2[1])\n",
        "    s1.pop()\n",
        "    s1.append(s2[-4])\n",
        "    s1.append(s2[-3])\n",
        "else:\n",
        "    s1.remove([\"A\",\"M\",\"P\"] in s2)\n",
        "s1=\"\".join(s1)\n",
        "print(s1)"
      ]
    },
    {
      "cell_type": "code",
      "execution_count": null,
      "metadata": {
        "colab": {
          "base_uri": "https://localhost:8080/"
        },
        "id": "JFo7LO3HYVZU",
        "outputId": "4d7c80ea-e584-4426-eef3-834b0b5848d6"
      },
      "outputs": [
        {
          "output_type": "stream",
          "name": "stdout",
          "text": [
            "11 111 11 1 11 1 1 1 11 1 1\n",
            "11 prime number\n",
            "111 prime number\n",
            "11 prime number\n",
            "1 neither prime nor composite\n",
            "11 prime number\n",
            "1 neither prime nor composite\n",
            "1 neither prime nor composite\n",
            "1 neither prime nor composite\n",
            "11 prime number\n",
            "1 neither prime nor composite\n",
            "1 neither prime nor composite\n"
          ]
        }
      ],
      "source": [
        "prime=list(map(int,input().strip().split()))\n",
        "x=len(prime)\n",
        "for j in range(x):\n",
        "    if(prime[j]!=1):\n",
        "        for i in range(2,prime[j]):\n",
        "            if(prime[j]%i==0):\n",
        "                print(\"{} not prime number\".format(prime[j]))\n",
        "                break\n",
        "            else:\n",
        "                print(\"{} prime number\".format(prime[j]))\n",
        "                break   \n",
        "    else:\n",
        "        print(\"{} neither prime nor composite\".format(prime[j]))"
      ]
    },
    {
      "cell_type": "code",
      "execution_count": null,
      "metadata": {
        "id": "Fy67XVGX_6SR"
      },
      "outputs": [],
      "source": [
        ""
      ]
    }
  ],
  "metadata": {
    "colab": {
      "collapsed_sections": [],
      "name": "firstpy.ipynb",
      "provenance": [],
      "authorship_tag": "ABX9TyPTA5OO+A6f79dNJPPYdbMH",
      "include_colab_link": true
    },
    "kernelspec": {
      "display_name": "Python 3",
      "name": "python3"
    },
    "language_info": {
      "name": "python"
    }
  },
  "nbformat": 4,
  "nbformat_minor": 0
}